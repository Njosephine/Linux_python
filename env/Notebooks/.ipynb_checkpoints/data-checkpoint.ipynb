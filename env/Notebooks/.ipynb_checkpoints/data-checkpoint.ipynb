{
 "cells": [
  {
   "cell_type": "code",
   "execution_count": 12,
   "id": "0c7caa5a-b52e-4350-a765-48721853ac94",
   "metadata": {},
   "outputs": [
    {
     "name": "stdout",
     "output_type": "stream",
     "text": [
      "welcome to python\n"
     ]
    }
   ],
   "source": [
    "#THE USE OF THE PRINT FUNCTION IN PYTHON\n",
    "#PRINT IS A PYTHON BUILT-IN FUNCTION\n",
    "#printing a single statement\n",
    "print(\"welcome to python\")\n",
    "\n"
   ]
  },
  {
   "cell_type": "code",
   "execution_count": 13,
   "id": "e232e85f-776c-4e9b-8d20-1861ecb969f8",
   "metadata": {},
   "outputs": [
    {
     "name": "stdout",
     "output_type": "stream",
     "text": [
      "welcome to python\n",
      "python is fun\n"
     ]
    }
   ],
   "source": [
    "#printing multiple statements\n",
    "print(\"welcome to python\")\n",
    "print(\"python is fun\")\n",
    "\n"
   ]
  },
  {
   "cell_type": "code",
   "execution_count": 14,
   "id": "fdc0a67b-90cc-486e-8900-c85e6b6371c6",
   "metadata": {},
   "outputs": [
    {
     "name": "stdout",
     "output_type": "stream",
     "text": [
      "FFFFFFFF   U      U   NN      NN\n",
      "FF         U      U   NNN     NN\n",
      "FF         U      U   NN N    NN\n",
      "FFFFFFFF    U    U    NN  N   NN\n",
      "FF           UUU      NN      NNN\n"
     ]
    }
   ],
   "source": [
    "#printing multiple statements\n",
    "print(\"FFFFFFFF   U      U   NN      NN\")\n",
    "print(\"FF         U      U   NNN     NN\")\n",
    "print(\"FF         U      U   NN N    NN\")\n",
    "print(\"FFFFFFFF    U    U    NN  N   NN\")\n",
    "print(\"FF           UUU      NN      NNN\")"
   ]
  },
  {
   "cell_type": "code",
   "execution_count": 15,
   "id": "d5a72a10-8542-4fe9-ad8a-e9ea1a21f93b",
   "metadata": {},
   "outputs": [
    {
     "name": "stdout",
     "output_type": "stream",
     "text": [
      "a   a^2   a^3\n",
      "1   1     1\n",
      "2   4     8\n",
      "3   9     27\n",
      "4   16    64\n"
     ]
    }
   ],
   "source": [
    "#printing a table\n",
    "print(\"a   a^2   a^3\")\n",
    "print(\"1   1     1\")\n",
    "print(\"2   4     8\")\n",
    "print(\"3   9     27\")\n",
    "print(\"4   16    64\")\n"
   ]
  },
  {
   "cell_type": "code",
   "execution_count": 16,
   "id": "e94ef048-37c6-4f17-8a07-91c730b97cfe",
   "metadata": {},
   "outputs": [
    {
     "name": "stdout",
     "output_type": "stream",
     "text": [
      "0.8392857142857143\n"
     ]
    }
   ],
   "source": [
    "#a program computing an expression \n",
    "print(((9.5 * 4.5)-(2.5 * 3))/(45.5-3.5))\n",
    "       "
   ]
  },
  {
   "cell_type": "code",
   "execution_count": 17,
   "id": "2f896bd2-625a-425d-ac97-3cdc9369c434",
   "metadata": {},
   "outputs": [
    {
     "name": "stdout",
     "output_type": "stream",
     "text": [
      "0.8392857142857143\n"
     ]
    }
   ],
   "source": [
    "print((9.5 * 4.5-2.5 * 3)/(45.5-3.5))"
   ]
  },
  {
   "cell_type": "code",
   "execution_count": 18,
   "id": "5124be69-1fc7-457a-8da2-c530ccbd244a",
   "metadata": {},
   "outputs": [
    {
     "name": "stdout",
     "output_type": "stream",
     "text": [
      "the area of a circle is: 94.985\n",
      "the perimeter of a circle is: 34.54\n"
     ]
    }
   ],
   "source": [
    "#A PROGRAM THAT COMPUTES THE AREA AND PERIMETER OF A CIRCLE\n",
    "# this program introdues a variables called radius , area, pi and perimeter\n",
    "pi = 3.14\n",
    "radius = 5.5\n",
    "Area = radius * radius * pi\n",
    "Perimeter = 2 * pi * radius\n",
    "print(\"the area of a circle is:\", Area)\n",
    "print(\"the perimeter of a circle is:\", Perimeter)\n"
   ]
  },
  {
   "cell_type": "code",
   "execution_count": 19,
   "id": "66f9056a-7a3f-4cd8-a338-0c4876379232",
   "metadata": {},
   "outputs": [
    {
     "name": "stdout",
     "output_type": "stream",
     "text": [
      "enter the radius of the circle 5.5\n"
     ]
    },
    {
     "name": "stdout",
     "output_type": "stream",
     "text": [
      "the area of a circle is: 94.985\n",
      "the perimeter of a circle is: 34.54\n"
     ]
    }
   ],
   "source": [
    "#Prompting the user to enter radius inorder to get the area and perimeter of a circle\n",
    "#pi is a constant\n",
    "pi = 3.14\n",
    "radius = eval(input(\"enter the radius of the circle\"))\n",
    "area = radius * radius * pi\n",
    "perimeter = 2 * radius * pi\n",
    "print(\"the area of a circle is:\",area)\n",
    "print(\"the perimeter of a circle is:\",perimeter)\n"
   ]
  },
  {
   "cell_type": "code",
   "execution_count": 20,
   "id": "3701a8ff-2e7c-4469-9720-e63f6b0cb08c",
   "metadata": {},
   "outputs": [
    {
     "name": "stdout",
     "output_type": "stream",
     "text": [
      "Enter the radius and length of a cylinder: 5.5,12\n"
     ]
    },
    {
     "name": "stdout",
     "output_type": "stream",
     "text": [
      "the area is: 94.985\n",
      "the volume is: 1139.82\n"
     ]
    }
   ],
   "source": [
    "#simultaneous expressions\n",
    "# EVAL,INPUT ARE PYTHON BUILT-IN FUNCTIONS\n",
    "radius,length = eval(input(\"Enter the radius and length of a cylinder:\"))\n",
    "area = radius * radius * pi\n",
    "volume = area * length\n",
    "print(\"the area is:\", area)\n",
    "print(\"the volume is:\",volume)\n"
   ]
  },
  {
   "cell_type": "code",
   "execution_count": 27,
   "id": "e00f9a48-0bc3-4e56-902c-2ef63dad6711",
   "metadata": {},
   "outputs": [
    {
     "name": "stdout",
     "output_type": "stream",
     "text": [
      "4.555\n",
      "4\n"
     ]
    },
    {
     "data": {
      "text/plain": [
       "5"
      ]
     },
     "execution_count": 27,
     "metadata": {},
     "output_type": "execute_result"
    }
   ],
   "source": [
    "#converting a float to an integer use the int function\n",
    "y = 4.555\n",
    "#the value of y is truncated not rounded off if converted to an integer\n",
    "x = int(y)\n",
    "print(y)\n",
    "\n",
    "print(x)\n",
    "# to round off to the nearest whole number we use the round function\n",
    "z = round(y)\n",
    "print(z)\n",
    "\n",
    "\n"
   ]
  },
  {
   "cell_type": "code",
   "execution_count": 38,
   "id": "f466e09d-7480-4963-ad71-16d1d68234eb",
   "metadata": {},
   "outputs": [
    {
     "name": "stdout",
     "output_type": "stream",
     "text": [
      "2\n",
      "2.0\n",
      "2\n"
     ]
    }
   ],
   "source": [
    "#MATHEMATICAL FUNCTIONS,STRINGS AND OBJECTS\n",
    "#to use the math functions we have to import the math module\n",
    "import math \n",
    "x = math.sqrt(4)\n",
    "y = int(x)\n",
    "z = round(x)\n",
    "print(y)\n",
    "print(x)\n",
    "print(z)\n",
    "\n"
   ]
  },
  {
   "cell_type": "code",
   "execution_count": 48,
   "id": "47d767a8-cd4e-4491-8f9c-a5e0586d63b9",
   "metadata": {},
   "outputs": [
    {
     "name": "stdout",
     "output_type": "stream",
     "text": [
      "-2.4492935982947064e-16\n",
      "0\n",
      "1.0\n",
      "1\n",
      "1.0\n"
     ]
    }
   ],
   "source": [
    "#mathematical functions\n",
    "x = math.sin(2 * math.pi)\n",
    "y = int(x)\n",
    "print(x)\n",
    "print(y)\n",
    "h = math.cos(2 * math.pi)\n",
    "s = int(h)\n",
    "print(h)\n",
    "print(s)\n",
    "#min(2, 2, 1)\n",
    "v = math.log(math.e)\n",
    "print(v)\n",
    "\n"
   ]
  },
  {
   "cell_type": "code",
   "execution_count": 6,
   "id": "2ba01ac2-c95d-4f15-b140-7a9a26292cb5",
   "metadata": {},
   "outputs": [
    {
     "name": "stdout",
     "output_type": "stream",
     "text": [
      "65\n",
      "A\n"
     ]
    }
   ],
   "source": [
    "#20th August 2024\n",
    "#the use of the ord and chr functions\n",
    "#the ord function returns the ASCII code for the character\n",
    "#the chr function retuns the character of the code\n",
    " y = 'A'\n",
    "print(ord(y))\n",
    "x = 65\n",
    "print(chr(x))"
   ]
  },
  {
   "cell_type": "code",
   "execution_count": 8,
   "id": "24d614ce-af37-4c36-b84f-4b818057e9cb",
   "metadata": {},
   "outputs": [
    {
     "name": "stdout",
     "output_type": "stream",
     "text": [
      "108\n",
      "l\n"
     ]
    }
   ],
   "source": [
    "z = 'l'\n",
    "print(ord(z))\n",
    "z = 108\n",
    "print(chr(z))"
   ]
  },
  {
   "cell_type": "code",
   "execution_count": 9,
   "id": "fb4657f2-e760-4596-8f78-00189eabee0d",
   "metadata": {},
   "outputs": [
    {
     "ename": "SyntaxError",
     "evalue": "unterminated string literal (detected at line 1) (329054741.py, line 1)",
     "output_type": "error",
     "traceback": [
      "\u001b[0;36m  Cell \u001b[0;32mIn[9], line 1\u001b[0;36m\u001b[0m\n\u001b[0;31m    print(\"He said, \"John's program is easy to read\"\")\u001b[0m\n\u001b[0m                         ^\u001b[0m\n\u001b[0;31mSyntaxError\u001b[0m\u001b[0;31m:\u001b[0m unterminated string literal (detected at line 1)\n"
     ]
    }
   ],
   "source": [
    "#trying to make the output to have double quotes but an error occurs\n",
    "print(\"He said, \"John's program is easy to read\"\")"
   ]
  },
  {
   "cell_type": "code",
   "execution_count": 10,
   "id": "6e62f176-d508-419c-95de-f4a2ed4e540e",
   "metadata": {},
   "outputs": [
    {
     "name": "stdout",
     "output_type": "stream",
     "text": [
      "He said, \"John's program is easy to read\"\n"
     ]
    }
   ],
   "source": [
    "#to solve the above error we use the escape characters and this is the \\\"\n",
    "print(\"He said, \\\"John's program is easy to read\\\"\")"
   ]
  },
  {
   "cell_type": "code",
   "execution_count": 14,
   "id": "29ea8940-5df2-4e80-a16b-538237cee7a4",
   "metadata": {},
   "outputs": [
    {
     "name": "stdout",
     "output_type": "stream",
     "text": [
      "the girl is \n",
      " tall\n",
      "the girl\n",
      "the boy\n",
      "the girlthe boy\n"
     ]
    }
   ],
   "source": [
    " #other escape characters include \\b,\\t,\\n,\\',\\r,\\f,\\\\\n",
    "#\\n this is called the linefeed it causes the output to go to the next line\n",
    "print(\"the girl is \\n tall\")\n",
    "#\\n this also automatically makes the output to go the next line even wen it is not included \n",
    "print(\"the girl\")\n",
    "print(\"the boy\")\n",
    "#to prevent this from happening we add the end argument\n",
    "print(\"the girl\", end = '')\n",
    "print(\"the boy\")"
   ]
  },
  {
   "cell_type": "code",
   "execution_count": 47,
   "id": "6fca31e8-dec0-4b1a-8826-5659bd3c961e",
   "metadata": {},
   "outputs": [
    {
     "name": "stdin",
     "output_type": "stream",
     "text": [
      "Enter the radius and length of a cylinder: 2,5.5\n"
     ]
    },
    {
     "name": "stdout",
     "output_type": "stream",
     "text": [
      "the area is: 12.566370614359172 and the volume is: 69.11503837897544\n"
     ]
    }
   ],
   "source": [
    "#implementation of the end argument in this problem\n",
    "import math\n",
    "radius,length = eval(input(\"Enter the radius and length of a cylinder:\"))\n",
    "area = radius * radius * math.pi\n",
    "volume = area * length\n",
    "print(\"the area is:\", area, end = '')\n",
    "print(\" and the volume is:\",volume) \n",
    "\n"
   ]
  },
  {
   "cell_type": "code",
   "execution_count": 23,
   "id": "a049e8bc-0c43-4b41-8e20-bab49acd839e",
   "metadata": {},
   "outputs": [
    {
     "data": {
      "text/plain": [
       "'4'"
      ]
     },
     "execution_count": 23,
     "metadata": {},
     "output_type": "execute_result"
    }
   ],
   "source": [
    " #the use of the str function to convert a number to a string\n",
    "a = 4\n",
    "str(a)\n"
   ]
  },
  {
   "cell_type": "code",
   "execution_count": 25,
   "id": "06d8618c-06df-485d-8c1b-6663ab149dd2",
   "metadata": {},
   "outputs": [
    {
     "data": {
      "text/plain": [
       "'Welcome to Python'"
      ]
     },
     "execution_count": 25,
     "metadata": {},
     "output_type": "execute_result"
    }
   ],
   "source": [
    "#The String Concatenation Operator(+)\n",
    "#this concatenates three strings into one\n",
    "message = \"Welcome \" + \"to \" + \"Python\"\n",
    "message\n"
   ]
  },
  {
   "cell_type": "code",
   "execution_count": 28,
   "id": "b4b7856a-224e-46c7-a3dd-111f0fc1471c",
   "metadata": {},
   "outputs": [
    {
     "data": {
      "text/plain": [
       "'Chapter 3'"
      ]
     },
     "execution_count": 28,
     "metadata": {},
     "output_type": "execute_result"
    }
   ],
   "source": [
    "chapter = 3\n",
    "chapter1 = 'Chapter ' + str(chapter)\n",
    "chapter1\n"
   ]
  },
  {
   "cell_type": "code",
   "execution_count": 36,
   "id": "19cf548f-2f21-4ae0-b9aa-b7d4e0e6538a",
   "metadata": {},
   "outputs": [
    {
     "data": {
      "text/plain": [
       "'Chapter 3 and chapter 4'"
      ]
     },
     "execution_count": 36,
     "metadata": {},
     "output_type": "execute_result"
    }
   ],
   "source": [
    " #the augmented assignment(+=) can be used in string concatenation\n",
    "chapter1 += \" and chapter 4\"\n",
    "chapter1\n"
   ]
  },
  {
   "cell_type": "code",
   "execution_count": 38,
   "id": "f4254a42-b7a2-4726-a2f6-0519ba1fa765",
   "metadata": {},
   "outputs": [
    {
     "name": "stdin",
     "output_type": "stream",
     "text": [
      "enter the string: welcome to \n",
      "enter the string: python\n"
     ]
    },
    {
     "name": "stdout",
     "output_type": "stream",
     "text": [
      "welcome to \n",
      "python\n"
     ]
    }
   ],
   "source": [
    " #Reading strings from the console use the input function\n",
    "s1 = input(\"enter the string:\")\n",
    "s2 = input(\"enter the string:\")\n",
    "print(s1)\n",
    "print(s2)\n"
   ]
  },
  {
   "cell_type": "code",
   "execution_count": 39,
   "id": "c448bd6e-b9c8-49f4-a1d5-e71e8ce2dc8a",
   "metadata": {},
   "outputs": [
    {
     "name": "stdin",
     "output_type": "stream",
     "text": [
      "Enter a character:  q\n"
     ]
    },
    {
     "name": "stdout",
     "output_type": "stream",
     "text": [
      "t\n"
     ]
    }
   ],
   "source": [
    "x = input(\"Enter a character: \")\n",
    "ch = chr(ord(x) + 3)\n",
    "print(ch)\n"
   ]
  },
  {
   "cell_type": "code",
   "execution_count": 41,
   "id": "dff3477c-3821-4442-9e31-0a206f8535f1",
   "metadata": {},
   "outputs": [
    {
     "name": "stdin",
     "output_type": "stream",
     "text": [
      "Enter a character:  A\n",
      "Enter a character:  a\n"
     ]
    },
    {
     "name": "stdout",
     "output_type": "stream",
     "text": [
      "32\n"
     ]
    }
   ],
   "source": [
    "x = input(\"Enter a character: \")\n",
    "y = input(\"Enter a character: \")\n",
    "print(ord(y) - ord(x))\n"
   ]
  },
  {
   "cell_type": "code",
   "execution_count": 42,
   "id": "164bf5e1-cd61-4735-bf92-8b2502e92f65",
   "metadata": {},
   "outputs": [
    {
     "ename": "TypeError",
     "evalue": "can only concatenate str (not \"int\") to str",
     "output_type": "error",
     "traceback": [
      "\u001b[0;31m---------------------------------------------------------------------------\u001b[0m",
      "\u001b[0;31mTypeError\u001b[0m                                 Traceback (most recent call last)",
      "Cell \u001b[0;32mIn[42], line 1\u001b[0m\n\u001b[0;32m----> 1\u001b[0m title \u001b[38;5;241m=\u001b[39m \u001b[38;5;124;43m\"\u001b[39;49m\u001b[38;5;124;43mChapter \u001b[39;49m\u001b[38;5;124;43m\"\u001b[39;49m\u001b[43m \u001b[49m\u001b[38;5;241;43m+\u001b[39;49m\u001b[43m \u001b[49m\u001b[38;5;241;43m1\u001b[39;49m\n\u001b[1;32m      2\u001b[0m title\n",
      "\u001b[0;31mTypeError\u001b[0m: can only concatenate str (not \"int\") to str"
     ]
    }
   ],
   "source": [
    "#this gives an error becoz we cant concatenate a string with an integer\n",
    "title = \"Chapter \" + 1\n",
    "title"
   ]
  },
  {
   "cell_type": "code",
   "execution_count": 43,
   "id": "2513ceab-c2d9-48d6-9cd8-a2cadf8859d4",
   "metadata": {},
   "outputs": [
    {
     "data": {
      "text/plain": [
       "'Chapter 1'"
      ]
     },
     "execution_count": 43,
     "metadata": {},
     "output_type": "execute_result"
    }
   ],
   "source": [
    "#inorder to fix the above error we need to make the integer a string using the str function\n",
    "title = \"Chapter \" + str(1)\n",
    "title"
   ]
  },
  {
   "cell_type": "code",
   "execution_count": 44,
   "id": "32492d31-b006-426b-9430-ae125c619621",
   "metadata": {},
   "outputs": [
    {
     "name": "stdout",
     "output_type": "stream",
     "text": [
      "5\n",
      "23\n"
     ]
    }
   ],
   "source": [
    "#the first output is the summation of 2 and 3 whereas the second output is the concatenation of two strings\n",
    "sum = 2 + 3\n",
    "print(sum)\n",
    "s = '2' + '3'\n",
    "print(s)"
   ]
  },
  {
   "cell_type": "code",
   "execution_count": 50,
   "id": "dd12610a-252a-40f4-bc69-b6a077669c3f",
   "metadata": {},
   "outputs": [
    {
     "name": "stdout",
     "output_type": "stream",
     "text": [
      " welcome\n",
      " WELCOME\n"
     ]
    }
   ],
   "source": [
    " #INDRODUCTION TO OBJECTS AND METHODS\n",
    "s = \"welcome\" #s is an object\n",
    "s1 = s.lower()\n",
    "print(s1)\n",
    "\n",
    "s2 = s.upper()#the object is invoking the upper method to return the string in uppercase\n",
    "print(s2)"
   ]
  },
  {
   "cell_type": "code",
   "execution_count": 59,
   "id": "a3e29781-23bb-4118-b52b-7794dd2e37c8",
   "metadata": {},
   "outputs": [
    {
     "data": {
      "text/plain": [
       "'Welcome'"
      ]
     },
     "execution_count": 59,
     "metadata": {},
     "output_type": "execute_result"
    }
   ],
   "source": [
    "s = \"\\t Welcome \\n\"\n",
    "s1 = s.strip()\n",
    "s1\n"
   ]
  },
  {
   "cell_type": "code",
   "execution_count": null,
   "id": "0b132d9d-1877-442e-8eaf-09cc99557c2b",
   "metadata": {},
   "outputs": [],
   "source": []
  },
  {
   "cell_type": "code",
   "execution_count": null,
   "id": "65c52a41-dc8e-4e3f-bc1d-e2598546d0af",
   "metadata": {},
   "outputs": [],
   "source": []
  },
  {
   "cell_type": "code",
   "execution_count": null,
   "id": "fc388c8e-3941-4582-a838-72dc683a3564",
   "metadata": {},
   "outputs": [],
   "source": []
  },
  {
   "cell_type": "code",
   "execution_count": null,
   "id": "8b902560-7aeb-4feb-bd9e-39369abaa58d",
   "metadata": {},
   "outputs": [],
   "source": []
  },
  {
   "cell_type": "code",
   "execution_count": null,
   "id": "e3e8cb50-6083-4cc0-a227-9900b7146988",
   "metadata": {},
   "outputs": [],
   "source": []
  },
  {
   "cell_type": "code",
   "execution_count": null,
   "id": "943b19b0-61cc-48be-adfb-8f31eb0a4d9b",
   "metadata": {},
   "outputs": [],
   "source": []
  },
  {
   "cell_type": "code",
   "execution_count": null,
   "id": "b886c7d8-9549-4b44-b598-171aa454b132",
   "metadata": {},
   "outputs": [],
   "source": []
  },
  {
   "cell_type": "code",
   "execution_count": null,
   "id": "5300bdf8-bd0a-4eeb-a179-0e0b9a77cae4",
   "metadata": {},
   "outputs": [],
   "source": []
  },
  {
   "cell_type": "code",
   "execution_count": null,
   "id": "21bfadee-b9f6-41f8-a76d-9140aa462d8a",
   "metadata": {},
   "outputs": [],
   "source": []
  },
  {
   "cell_type": "code",
   "execution_count": null,
   "id": "e6d0cb84-546d-4152-a155-53a1cbc5133c",
   "metadata": {},
   "outputs": [],
   "source": []
  },
  {
   "cell_type": "code",
   "execution_count": null,
   "id": "044e1c77-8a8d-4b76-a651-58584c6ed727",
   "metadata": {},
   "outputs": [],
   "source": []
  },
  {
   "cell_type": "code",
   "execution_count": null,
   "id": "bd2dbb34-5ea1-4499-ad7c-3c45845c805c",
   "metadata": {},
   "outputs": [],
   "source": []
  },
  {
   "cell_type": "code",
   "execution_count": null,
   "id": "92c9f8aa-b2f0-4bc7-b4cb-8f91901108d3",
   "metadata": {},
   "outputs": [],
   "source": []
  },
  {
   "cell_type": "code",
   "execution_count": null,
   "id": "2ae2d97f-74be-4184-9944-0e9def78a2dc",
   "metadata": {},
   "outputs": [],
   "source": []
  },
  {
   "cell_type": "code",
   "execution_count": null,
   "id": "5b53f7bd-ec3b-423f-b45c-3e480158ce85",
   "metadata": {},
   "outputs": [],
   "source": []
  },
  {
   "cell_type": "code",
   "execution_count": null,
   "id": "e1ed7502-aadd-4dfe-a156-334eda9bba7c",
   "metadata": {},
   "outputs": [],
   "source": []
  },
  {
   "cell_type": "code",
   "execution_count": null,
   "id": "890e7261-16af-4741-b573-283f65d801ad",
   "metadata": {},
   "outputs": [],
   "source": []
  },
  {
   "cell_type": "code",
   "execution_count": null,
   "id": "fb701263-8b58-4b1c-9340-5133d04adea1",
   "metadata": {},
   "outputs": [],
   "source": []
  },
  {
   "cell_type": "code",
   "execution_count": null,
   "id": "5ebe5f78-017e-4336-9abf-69231b8427e2",
   "metadata": {},
   "outputs": [],
   "source": []
  },
  {
   "cell_type": "code",
   "execution_count": null,
   "id": "b9dae8de-9bec-4e63-8785-2f7fcc5d3bd0",
   "metadata": {},
   "outputs": [],
   "source": []
  },
  {
   "cell_type": "code",
   "execution_count": null,
   "id": "f4f3ebe0-6898-48d6-8473-1ee04e834e7d",
   "metadata": {},
   "outputs": [],
   "source": []
  },
  {
   "cell_type": "code",
   "execution_count": null,
   "id": "de57d1da-0f7d-45e2-aa24-e8e019736260",
   "metadata": {},
   "outputs": [],
   "source": []
  },
  {
   "cell_type": "code",
   "execution_count": null,
   "id": "d09688da",
   "metadata": {},
   "outputs": [],
   "source": []
  },
  {
   "cell_type": "code",
   "execution_count": null,
   "id": "2060a9fc",
   "metadata": {},
   "outputs": [],
   "source": []
  },
  {
   "cell_type": "code",
   "execution_count": null,
   "id": "801ca71b-a2ee-4836-934c-cca1240e9190",
   "metadata": {},
   "outputs": [],
   "source": []
  },
  {
   "cell_type": "code",
   "execution_count": null,
   "id": "0d226c40-64b7-47b5-8c5c-4921643651c9",
   "metadata": {},
   "outputs": [],
   "source": []
  },
  {
   "cell_type": "code",
   "execution_count": null,
   "id": "c9f79aaa-68b9-424b-8015-8b0661a68057",
   "metadata": {},
   "outputs": [],
   "source": []
  },
  {
   "cell_type": "code",
   "execution_count": null,
   "id": "f86f4d64-9aee-4d58-bed6-6deaf78508e1",
   "metadata": {},
   "outputs": [],
   "source": []
  },
  {
   "cell_type": "code",
   "execution_count": null,
   "id": "c8400f3b-050c-4196-8df4-ebe2ba899c03",
   "metadata": {},
   "outputs": [],
   "source": []
  },
  {
   "cell_type": "code",
   "execution_count": null,
   "id": "f1d7c008-24e8-419d-9f28-a9322d33e160",
   "metadata": {},
   "outputs": [],
   "source": []
  },
  {
   "cell_type": "code",
   "execution_count": null,
   "id": "b293da5e-df0c-4f00-a0d5-e2a49a020169",
   "metadata": {},
   "outputs": [],
   "source": []
  },
  {
   "cell_type": "code",
   "execution_count": null,
   "id": "56f10d62-7684-4d99-afc3-f42ca9e2893b",
   "metadata": {},
   "outputs": [],
   "source": []
  },
  {
   "cell_type": "code",
   "execution_count": null,
   "id": "1e5f17d0-83fc-4b49-bb34-c45d92b36b74",
   "metadata": {},
   "outputs": [],
   "source": []
  },
  {
   "cell_type": "code",
   "execution_count": null,
   "id": "a5bdf762-13aa-49b8-91cf-ce6011ab3812",
   "metadata": {},
   "outputs": [],
   "source": []
  },
  {
   "cell_type": "code",
   "execution_count": null,
   "id": "6d70af8d-03e0-4297-bed2-53f91af6a387",
   "metadata": {},
   "outputs": [],
   "source": []
  },
  {
   "cell_type": "code",
   "execution_count": null,
   "id": "ee2ad357-39b1-4d46-a9bb-467abc9f4dad",
   "metadata": {},
   "outputs": [],
   "source": []
  },
  {
   "cell_type": "code",
   "execution_count": null,
   "id": "07e33d2d-ecb4-4cc1-a66d-0c9110106a87",
   "metadata": {},
   "outputs": [],
   "source": []
  },
  {
   "cell_type": "code",
   "execution_count": null,
   "id": "60df1e93-9708-462e-beb1-a313d1ced93e",
   "metadata": {},
   "outputs": [],
   "source": []
  },
  {
   "cell_type": "code",
   "execution_count": null,
   "id": "6c902b83-b0e7-4bee-a185-f71e50f27af3",
   "metadata": {},
   "outputs": [],
   "source": []
  },
  {
   "cell_type": "code",
   "execution_count": null,
   "id": "6e83f447-79a2-4e8f-ab32-a7138e6cdae7",
   "metadata": {},
   "outputs": [],
   "source": []
  },
  {
   "cell_type": "code",
   "execution_count": null,
   "id": "355095ec-8b21-4216-aae3-53f4594dd6dc",
   "metadata": {},
   "outputs": [],
   "source": []
  },
  {
   "cell_type": "code",
   "execution_count": null,
   "id": "4ffda0af-cb25-415c-8baa-2171a16100b3",
   "metadata": {},
   "outputs": [],
   "source": []
  },
  {
   "cell_type": "code",
   "execution_count": null,
   "id": "c7b243e2-1f59-440e-b859-124cb44b810f",
   "metadata": {},
   "outputs": [],
   "source": [
    "\n",
    "\n"
   ]
  },
  {
   "cell_type": "code",
   "execution_count": null,
   "id": "8768d8b3-a38b-4f48-a4d5-872e36df28f5",
   "metadata": {},
   "outputs": [],
   "source": []
  },
  {
   "cell_type": "code",
   "execution_count": null,
   "id": "0834af82-309f-458a-b434-eb23a67dd064",
   "metadata": {},
   "outputs": [],
   "source": []
  },
  {
   "cell_type": "code",
   "execution_count": null,
   "id": "db81257e-320d-49ae-b5f5-35308c920b4e",
   "metadata": {},
   "outputs": [],
   "source": []
  },
  {
   "cell_type": "code",
   "execution_count": null,
   "id": "e38cf05e-6a3b-4636-9a10-f20b9732a7b0",
   "metadata": {},
   "outputs": [],
   "source": []
  },
  {
   "cell_type": "code",
   "execution_count": null,
   "id": "f06a78bf-b972-4b81-a0b5-8be69ab4c831",
   "metadata": {},
   "outputs": [],
   "source": []
  },
  {
   "cell_type": "code",
   "execution_count": null,
   "id": "369f2a02-7bf3-460b-b59b-0eb897c53169",
   "metadata": {},
   "outputs": [],
   "source": []
  }
 ],
 "metadata": {
  "kernelspec": {
   "display_name": "Python 3 (ipykernel)",
   "language": "python",
   "name": "python3"
  },
  "language_info": {
   "codemirror_mode": {
    "name": "ipython",
    "version": 3
   },
   "file_extension": ".py",
   "mimetype": "text/x-python",
   "name": "python",
   "nbconvert_exporter": "python",
   "pygments_lexer": "ipython3",
   "version": "3.12.3"
  }
 },
 "nbformat": 4,
 "nbformat_minor": 5
}
