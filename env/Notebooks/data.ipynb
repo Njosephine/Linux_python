{
 "cells": [
  {
   "cell_type": "code",
   "execution_count": 12,
   "id": "0c7caa5a-b52e-4350-a765-48721853ac94",
   "metadata": {},
   "outputs": [
    {
     "name": "stdout",
     "output_type": "stream",
     "text": [
      "welcome to python\n"
     ]
    }
   ],
   "source": [
    "#THE USE OF THE PRINT FUNCTION IN PYTHON\n",
    "#PRINT IS A PYTHON BUILT-IN FUCTION\n",
    "#printing a single statement\n",
    "print(\"welcome to python\")\n",
    "\n"
   ]
  },
  {
   "cell_type": "code",
   "execution_count": 13,
   "id": "e232e85f-776c-4e9b-8d20-1861ecb969f8",
   "metadata": {},
   "outputs": [
    {
     "name": "stdout",
     "output_type": "stream",
     "text": [
      "welcome to python\n",
      "python is fun\n"
     ]
    }
   ],
   "source": [
    "#printing multiple statements\n",
    "print(\"welcome to python\")\n",
    "print(\"python is fun\")\n",
    "\n"
   ]
  },
  {
   "cell_type": "code",
   "execution_count": 14,
   "id": "fdc0a67b-90cc-486e-8900-c85e6b6371c6",
   "metadata": {},
   "outputs": [
    {
     "name": "stdout",
     "output_type": "stream",
     "text": [
      "FFFFFFFF   U      U   NN      NN\n",
      "FF         U      U   NNN     NN\n",
      "FF         U      U   NN N    NN\n",
      "FFFFFFFF    U    U    NN  N   NN\n",
      "FF           UUU      NN      NNN\n"
     ]
    }
   ],
   "source": [
    "#printing multiple statements\n",
    "print(\"FFFFFFFF   U      U   NN      NN\")\n",
    "print(\"FF         U      U   NNN     NN\")\n",
    "print(\"FF         U      U   NN N    NN\")\n",
    "print(\"FFFFFFFF    U    U    NN  N   NN\")\n",
    "print(\"FF           UUU      NN      NNN\")"
   ]
  },
  {
   "cell_type": "code",
   "execution_count": 15,
   "id": "d5a72a10-8542-4fe9-ad8a-e9ea1a21f93b",
   "metadata": {},
   "outputs": [
    {
     "name": "stdout",
     "output_type": "stream",
     "text": [
      "a   a^2   a^3\n",
      "1   1     1\n",
      "2   4     8\n",
      "3   9     27\n",
      "4   16    64\n"
     ]
    }
   ],
   "source": [
    "#printing a table\n",
    "print(\"a   a^2   a^3\")\n",
    "print(\"1   1     1\")\n",
    "print(\"2   4     8\")\n",
    "print(\"3   9     27\")\n",
    "print(\"4   16    64\")\n"
   ]
  },
  {
   "cell_type": "code",
   "execution_count": 16,
   "id": "e94ef048-37c6-4f17-8a07-91c730b97cfe",
   "metadata": {},
   "outputs": [
    {
     "name": "stdout",
     "output_type": "stream",
     "text": [
      "0.8392857142857143\n"
     ]
    }
   ],
   "source": [
    "#a program computing an expression \n",
    "print(((9.5 * 4.5)-(2.5 * 3))/(45.5-3.5))\n",
    "       "
   ]
  },
  {
   "cell_type": "code",
   "execution_count": 17,
   "id": "2f896bd2-625a-425d-ac97-3cdc9369c434",
   "metadata": {},
   "outputs": [
    {
     "name": "stdout",
     "output_type": "stream",
     "text": [
      "0.8392857142857143\n"
     ]
    }
   ],
   "source": [
    "print((9.5 * 4.5-2.5 * 3)/(45.5-3.5))"
   ]
  },
  {
   "cell_type": "code",
   "execution_count": 18,
   "id": "5124be69-1fc7-457a-8da2-c530ccbd244a",
   "metadata": {},
   "outputs": [
    {
     "name": "stdout",
     "output_type": "stream",
     "text": [
      "the area of a circle is: 94.985\n",
      "the perimeter of a circle is: 34.54\n"
     ]
    }
   ],
   "source": [
    "#A PROGRAM THAT COMPUTES THE AREA AND PERIMETER OF A CIRCLE\n",
    "# this program introdues a variables called radius , area, pi and perimeter\n",
    "pi = 3.14\n",
    "radius = 5.5\n",
    "Area = radius * radius * pi\n",
    "Perimeter = 2 * pi * radius\n",
    "print(\"the area of a circle is:\", Area)\n",
    "print(\"the perimeter of a circle is:\", Perimeter)\n"
   ]
  },
  {
   "cell_type": "code",
   "execution_count": 19,
   "id": "66f9056a-7a3f-4cd8-a338-0c4876379232",
   "metadata": {},
   "outputs": [
    {
     "name": "stdin",
     "output_type": "stream",
     "text": [
      "enter the radius of the circle 5.5\n"
     ]
    },
    {
     "name": "stdout",
     "output_type": "stream",
     "text": [
      "the area of a circle is: 94.985\n",
      "the perimeter of a circle is: 34.54\n"
     ]
    }
   ],
   "source": [
    "#Prompting the user to enter radius inorder to get the area and perimeter of a circle\n",
    "#pi is a constant\n",
    "pi = 3.14\n",
    "radius = eval(input(\"enter the radius of the circle\"))\n",
    "area = radius * radius * pi\n",
    "perimeter = 2 * radius * pi\n",
    "print(\"the area of a circle is:\",area)\n",
    "print(\"the perimeter of a circle is:\",perimeter)\n"
   ]
  },
  {
   "cell_type": "code",
   "execution_count": 20,
   "id": "3701a8ff-2e7c-4469-9720-e63f6b0cb08c",
   "metadata": {},
   "outputs": [
    {
     "name": "stdin",
     "output_type": "stream",
     "text": [
      "Enter the radius and length of a cylinder: 5.5,12\n"
     ]
    },
    {
     "name": "stdout",
     "output_type": "stream",
     "text": [
      "the area is: 94.985\n",
      "the volume is: 1139.82\n"
     ]
    }
   ],
   "source": [
    "#simultaneous expressions\n",
    "# EVAL,INPUT ARE PYTHON BUILT-IN FUNCTIONS\n",
    "radius,length = eval(input(\"Enter the radius and length of a cylinder:\"))\n",
    "area = radius * radius * pi\n",
    "volume = area * length\n",
    "print(\"the area is:\", area)\n",
    "print(\"the volume is:\",volume)\n"
   ]
  },
  {
   "cell_type": "code",
   "execution_count": 27,
   "id": "e00f9a48-0bc3-4e56-902c-2ef63dad6711",
   "metadata": {},
   "outputs": [
    {
     "name": "stdout",
     "output_type": "stream",
     "text": [
      "4.555\n",
      "4\n"
     ]
    },
    {
     "data": {
      "text/plain": [
       "5"
      ]
     },
     "execution_count": 27,
     "metadata": {},
     "output_type": "execute_result"
    }
   ],
   "source": [
    "#converting a float to an integer use the int function\n",
    "y = 4.555\n",
    "#the value of y is truncated not rounded off if converted to an integer\n",
    "x = int(y)\n",
    "print(y)\n",
    "\n",
    "print(x)\n",
    "# to round off to the nearest whole number we use the round function\n",
    "z = round(y)\n",
    "print(z)\n",
    "\n",
    "\n"
   ]
  },
  {
   "cell_type": "code",
   "execution_count": 38,
   "id": "f466e09d-7480-4963-ad71-16d1d68234eb",
   "metadata": {},
   "outputs": [
    {
     "name": "stdout",
     "output_type": "stream",
     "text": [
      "2\n",
      "2.0\n",
      "2\n"
     ]
    }
   ],
   "source": [
    "#MATHEMATICAL FUNCTIONS,STRINGS AND OBJECTS\n",
    "#to use the math functions we have to import the math module\n",
    "import math \n",
    "x = math.sqrt(4)\n",
    "y = int(x)\n",
    "z = round(x)\n",
    "print(y)\n",
    "print(x)\n",
    "print(z)\n",
    "\n"
   ]
  },
  {
   "cell_type": "code",
   "execution_count": 48,
   "id": "47d767a8-cd4e-4491-8f9c-a5e0586d63b9",
   "metadata": {},
   "outputs": [
    {
     "name": "stdout",
     "output_type": "stream",
     "text": [
      "-2.4492935982947064e-16\n",
      "0\n",
      "1.0\n",
      "1\n",
      "1.0\n"
     ]
    }
   ],
   "source": [
    "#mathematical functions\n",
    "x = math.sin(2 * math.pi)\n",
    "y = int(x)\n",
    "print(x)\n",
    "print(y)\n",
    "h = math.cos(2 * math.pi)\n",
    "s = int(h)\n",
    "print(h)\n",
    "print(s)\n",
    "#min(2, 2, 1)\n",
    "v = math.log(math.e)\n",
    "print(v)\n",
    "\n"
   ]
  },
  {
   "cell_type": "code",
   "execution_count": null,
   "id": "2ba01ac2-c95d-4f15-b140-7a9a26292cb5",
   "metadata": {},
   "outputs": [],
   "source": []
  },
  {
   "cell_type": "code",
   "execution_count": null,
   "id": "801ca71b-a2ee-4836-934c-cca1240e9190",
   "metadata": {},
   "outputs": [],
   "source": []
  },
  {
   "cell_type": "code",
   "execution_count": null,
   "id": "0d226c40-64b7-47b5-8c5c-4921643651c9",
   "metadata": {},
   "outputs": [],
   "source": []
  },
  {
   "cell_type": "code",
   "execution_count": null,
   "id": "c9f79aaa-68b9-424b-8015-8b0661a68057",
   "metadata": {},
   "outputs": [],
   "source": []
  },
  {
   "cell_type": "code",
   "execution_count": 40,
   "id": "f86f4d64-9aee-4d58-bed6-6deaf78508e1",
   "metadata": {},
   "outputs": [
    {
     "name": "stdout",
     "output_type": "stream",
     "text": [
      "-2.4492935982947064e-16\n",
      "0\n"
     ]
    }
   ],
   "source": []
  },
  {
   "cell_type": "code",
   "execution_count": null,
   "id": "c8400f3b-050c-4196-8df4-ebe2ba899c03",
   "metadata": {},
   "outputs": [],
   "source": []
  },
  {
   "cell_type": "code",
   "execution_count": null,
   "id": "f1d7c008-24e8-419d-9f28-a9322d33e160",
   "metadata": {},
   "outputs": [],
   "source": []
  },
  {
   "cell_type": "code",
   "execution_count": null,
   "id": "b293da5e-df0c-4f00-a0d5-e2a49a020169",
   "metadata": {},
   "outputs": [],
   "source": []
  },
  {
   "cell_type": "code",
   "execution_count": null,
   "id": "56f10d62-7684-4d99-afc3-f42ca9e2893b",
   "metadata": {},
   "outputs": [],
   "source": []
  },
  {
   "cell_type": "code",
   "execution_count": null,
   "id": "1e5f17d0-83fc-4b49-bb34-c45d92b36b74",
   "metadata": {},
   "outputs": [],
   "source": []
  },
  {
   "cell_type": "code",
   "execution_count": null,
   "id": "a5bdf762-13aa-49b8-91cf-ce6011ab3812",
   "metadata": {},
   "outputs": [],
   "source": []
  },
  {
   "cell_type": "code",
   "execution_count": null,
   "id": "6d70af8d-03e0-4297-bed2-53f91af6a387",
   "metadata": {},
   "outputs": [],
   "source": []
  },
  {
   "cell_type": "code",
   "execution_count": null,
   "id": "ee2ad357-39b1-4d46-a9bb-467abc9f4dad",
   "metadata": {},
   "outputs": [],
   "source": []
  },
  {
   "cell_type": "code",
   "execution_count": null,
   "id": "07e33d2d-ecb4-4cc1-a66d-0c9110106a87",
   "metadata": {},
   "outputs": [],
   "source": []
  },
  {
   "cell_type": "code",
   "execution_count": null,
   "id": "60df1e93-9708-462e-beb1-a313d1ced93e",
   "metadata": {},
   "outputs": [],
   "source": []
  },
  {
   "cell_type": "code",
   "execution_count": null,
   "id": "6c902b83-b0e7-4bee-a185-f71e50f27af3",
   "metadata": {},
   "outputs": [],
   "source": []
  },
  {
   "cell_type": "code",
   "execution_count": null,
   "id": "6e83f447-79a2-4e8f-ab32-a7138e6cdae7",
   "metadata": {},
   "outputs": [],
   "source": []
  },
  {
   "cell_type": "code",
   "execution_count": null,
   "id": "355095ec-8b21-4216-aae3-53f4594dd6dc",
   "metadata": {},
   "outputs": [],
   "source": []
  },
  {
   "cell_type": "code",
   "execution_count": null,
   "id": "4ffda0af-cb25-415c-8baa-2171a16100b3",
   "metadata": {},
   "outputs": [],
   "source": []
  },
  {
   "cell_type": "code",
   "execution_count": null,
   "id": "c7b243e2-1f59-440e-b859-124cb44b810f",
   "metadata": {},
   "outputs": [],
   "source": [
    "\n",
    "\n"
   ]
  },
  {
   "cell_type": "code",
   "execution_count": null,
   "id": "8768d8b3-a38b-4f48-a4d5-872e36df28f5",
   "metadata": {},
   "outputs": [],
   "source": []
  },
  {
   "cell_type": "code",
   "execution_count": null,
   "id": "0834af82-309f-458a-b434-eb23a67dd064",
   "metadata": {},
   "outputs": [],
   "source": []
  },
  {
   "cell_type": "code",
   "execution_count": null,
   "id": "db81257e-320d-49ae-b5f5-35308c920b4e",
   "metadata": {},
   "outputs": [],
   "source": []
  },
  {
   "cell_type": "code",
   "execution_count": null,
   "id": "e38cf05e-6a3b-4636-9a10-f20b9732a7b0",
   "metadata": {},
   "outputs": [],
   "source": []
  },
  {
   "cell_type": "code",
   "execution_count": null,
   "id": "f06a78bf-b972-4b81-a0b5-8be69ab4c831",
   "metadata": {},
   "outputs": [],
   "source": []
  },
  {
   "cell_type": "code",
   "execution_count": null,
   "id": "369f2a02-7bf3-460b-b59b-0eb897c53169",
   "metadata": {},
   "outputs": [],
   "source": []
  }
 ],
 "metadata": {
  "kernelspec": {
   "display_name": "Python 3 (ipykernel)",
   "language": "python",
   "name": "python3"
  },
  "language_info": {
   "codemirror_mode": {
    "name": "ipython",
    "version": 3
   },
   "file_extension": ".py",
   "mimetype": "text/x-python",
   "name": "python",
   "nbconvert_exporter": "python",
   "pygments_lexer": "ipython3",
   "version": "3.12.3"
  }
 },
 "nbformat": 4,
 "nbformat_minor": 5
}
