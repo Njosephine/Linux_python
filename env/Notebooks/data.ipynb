{
 "cells": [
  {
   "cell_type": "code",
   "execution_count": 13,
   "id": "e232e85f-776c-4e9b-8d20-1861ecb969f8",
   "metadata": {},
   "outputs": [
    {
     "name": "stdout",
     "output_type": "stream",
     "text": [
      "welcome to python\n",
      "python is fun\n"
     ]
    }
   ],
   "source": [
    "#printing multiple statements\n",
    "print(\"welcome to python\")\n",
    "print(\"python is fun\")\n",
    "\n"
   ]
  },
  {
   "cell_type": "code",
   "execution_count": 14,
   "id": "fdc0a67b-90cc-486e-8900-c85e6b6371c6",
   "metadata": {},
   "outputs": [
    {
     "name": "stdout",
     "output_type": "stream",
     "text": [
      "FFFFFFFF   U      U   NN      NN\n",
      "FF         U      U   NNN     NN\n",
      "FF         U      U   NN N    NN\n",
      "FFFFFFFF    U    U    NN  N   NN\n",
      "FF           UUU      NN      NNN\n"
     ]
    }
   ],
   "source": [
    "#printing multiple statements\n",
    "print(\"FFFFFFFF   U      U   NN      NN\")\n",
    "print(\"FF         U      U   NNN     NN\")\n",
    "print(\"FF         U      U   NN N    NN\")\n",
    "print(\"FFFFFFFF    U    U    NN  N   NN\")\n",
    "print(\"FF           UUU      NN      NNN\")"
   ]
  },
  {
   "cell_type": "code",
   "execution_count": 15,
   "id": "d5a72a10-8542-4fe9-ad8a-e9ea1a21f93b",
   "metadata": {},
   "outputs": [
    {
     "name": "stdout",
     "output_type": "stream",
     "text": [
      "a   a^2   a^3\n",
      "1   1     1\n",
      "2   4     8\n",
      "3   9     27\n",
      "4   16    64\n"
     ]
    }
   ],
   "source": [
    "#printing a table\n",
    "print(\"a   a^2   a^3\")\n",
    "print(\"1   1     1\")\n",
    "print(\"2   4     8\")\n",
    "print(\"3   9     27\")\n",
    "print(\"4   16    64\")\n"
   ]
  },
  {
   "cell_type": "code",
   "execution_count": 16,
   "id": "e94ef048-37c6-4f17-8a07-91c730b97cfe",
   "metadata": {},
   "outputs": [
    {
     "name": "stdout",
     "output_type": "stream",
     "text": [
      "0.8392857142857143\n"
     ]
    }
   ],
   "source": [
    "#a program computing an expression \n",
    "print(((9.5 * 4.5)-(2.5 * 3))/(45.5-3.5))\n",
    "       "
   ]
  },
  {
   "cell_type": "code",
   "execution_count": 17,
   "id": "2f896bd2-625a-425d-ac97-3cdc9369c434",
   "metadata": {},
   "outputs": [
    {
     "name": "stdout",
     "output_type": "stream",
     "text": [
      "0.8392857142857143\n"
     ]
    }
   ],
   "source": [
    "print((9.5 * 4.5-2.5 * 3)/(45.5-3.5))"
   ]
  },
  {
   "cell_type": "code",
   "execution_count": 18,
   "id": "5124be69-1fc7-457a-8da2-c530ccbd244a",
   "metadata": {},
   "outputs": [
    {
     "name": "stdout",
     "output_type": "stream",
     "text": [
      "the area of a circle is: 94.985\n",
      "the perimeter of a circle is: 34.54\n"
     ]
    }
   ],
   "source": [
    "#A PROGRAM THAT COMPUTES THE AREA AND PERIMETER OF A CIRCLE\n",
    "# this program introdues a variables called radius , area, pi and perimeter\n",
    "pi = 3.14\n",
    "radius = 5.5\n",
    "Area = radius * radius * pi\n",
    "Perimeter = 2 * pi * radius\n",
    "print(\"the area of a circle is:\", Area)\n",
    "print(\"the perimeter of a circle is:\", Perimeter)\n"
   ]
  },
  {
   "cell_type": "code",
   "execution_count": 19,
   "id": "66f9056a-7a3f-4cd8-a338-0c4876379232",
   "metadata": {},
   "outputs": [
    {
     "name": "stdout",
     "output_type": "stream",
     "text": [
      "enter the radius of the circle 5.5\n"
     ]
    },
    {
     "name": "stdout",
     "output_type": "stream",
     "text": [
      "the area of a circle is: 94.985\n",
      "the perimeter of a circle is: 34.54\n"
     ]
    }
   ],
   "source": [
    "#Prompting the user to enter radius inorder to get the area and perimeter of a circle\n",
    "#pi is a constant\n",
    "pi = 3.14\n",
    "radius = eval(input(\"enter the radius of the circle\"))\n",
    "area = radius * radius * pi\n",
    "perimeter = 2 * radius * pi\n",
    "print(\"the area of a circle is:\",area)\n",
    "print(\"the perimeter of a circle is:\",perimeter)\n"
   ]
  },
  {
   "cell_type": "code",
   "execution_count": 20,
   "id": "3701a8ff-2e7c-4469-9720-e63f6b0cb08c",
   "metadata": {},
   "outputs": [
    {
     "name": "stdout",
     "output_type": "stream",
     "text": [
      "Enter the radius and length of a cylinder: 5.5,12\n"
     ]
    },
    {
     "name": "stdout",
     "output_type": "stream",
     "text": [
      "the area is: 94.985\n",
      "the volume is: 1139.82\n"
     ]
    }
   ],
   "source": [
    "#simultaneous expressions\n",
    "# EVAL,INPUT ARE PYTHON BUILT-IN FUNCTIONS\n",
    "radius,length = eval(input(\"Enter the radius and length of a cylinder:\"))\n",
    "area = radius * radius * pi\n",
    "volume = area * length\n",
    "print(\"the area is:\", area)\n",
    "print(\"the volume is:\",volume)\n"
   ]
  },
  {
   "cell_type": "code",
   "execution_count": 27,
   "id": "e00f9a48-0bc3-4e56-902c-2ef63dad6711",
   "metadata": {},
   "outputs": [
    {
     "name": "stdout",
     "output_type": "stream",
     "text": [
      "4.555\n",
      "4\n"
     ]
    },
    {
     "data": {
      "text/plain": [
       "5"
      ]
     },
     "execution_count": 27,
     "metadata": {},
     "output_type": "execute_result"
    }
   ],
   "source": [
    "#converting a float to an integer use the int function\n",
    "y = 4.555\n",
    "#the value of y is truncated not rounded off if converted to an integer\n",
    "x = int(y)\n",
    "print(y)\n",
    "\n",
    "print(x)\n",
    "# to round off to the nearest whole number we use the round function\n",
    "z = round(y)\n",
    "print(z)\n",
    "\n",
    "\n"
   ]
  },
  {
   "cell_type": "code",
   "execution_count": 38,
   "id": "f466e09d-7480-4963-ad71-16d1d68234eb",
   "metadata": {},
   "outputs": [
    {
     "name": "stdout",
     "output_type": "stream",
     "text": [
      "2\n",
      "2.0\n",
      "2\n"
     ]
    }
   ],
   "source": [
    "#MATHEMATICAL FUNCTIONS,STRINGS AND OBJECTS\n",
    "#to use the math functions we have to import the math module\n",
    "import math \n",
    "x = math.sqrt(4)\n",
    "y = int(x)\n",
    "z = round(x)\n",
    "print(y)\n",
    "print(x)\n",
    "print(z)\n",
    "\n"
   ]
  },
  {
   "cell_type": "code",
   "execution_count": 48,
   "id": "47d767a8-cd4e-4491-8f9c-a5e0586d63b9",
   "metadata": {},
   "outputs": [
    {
     "name": "stdout",
     "output_type": "stream",
     "text": [
      "-2.4492935982947064e-16\n",
      "0\n",
      "1.0\n",
      "1\n",
      "1.0\n"
     ]
    }
   ],
   "source": [
    "#mathematical functions\n",
    "x = math.sin(2 * math.pi)\n",
    "y = int(x)\n",
    "print(x)\n",
    "print(y)\n",
    "h = math.cos(2 * math.pi)\n",
    "s = int(h)\n",
    "print(h)\n",
    "print(s)\n",
    "#min(2, 2, 1)\n",
    "v = math.log(math.e)\n",
    "print(v)\n",
    "\n"
   ]
  },
  {
   "cell_type": "code",
   "execution_count": 6,
   "id": "2ba01ac2-c95d-4f15-b140-7a9a26292cb5",
   "metadata": {},
   "outputs": [
    {
     "name": "stdout",
     "output_type": "stream",
     "text": [
      "65\n",
      "A\n"
     ]
    }
   ],
   "source": [
    "#20th August 2024\n",
    "#the use of the ord and chr functions\n",
    "#the ord function returns the ASCII code for the character\n",
    "#the chr function retuns the character of the code\n",
    " y = 'A'\n",
    "print(ord(y))\n",
    "x = 65\n",
    "print(chr(x))"
   ]
  },
  {
   "cell_type": "code",
   "execution_count": 8,
   "id": "24d614ce-af37-4c36-b84f-4b818057e9cb",
   "metadata": {},
   "outputs": [
    {
     "name": "stdout",
     "output_type": "stream",
     "text": [
      "108\n",
      "l\n"
     ]
    }
   ],
   "source": [
    "z = 'l'\n",
    "print(ord(z))\n",
    "z = 108\n",
    "print(chr(z))"
   ]
  },
  {
   "cell_type": "code",
   "execution_count": 9,
   "id": "fb4657f2-e760-4596-8f78-00189eabee0d",
   "metadata": {},
   "outputs": [
    {
     "ename": "SyntaxError",
     "evalue": "unterminated string literal (detected at line 1) (329054741.py, line 1)",
     "output_type": "error",
     "traceback": [
      "\u001b[0;36m  Cell \u001b[0;32mIn[9], line 1\u001b[0;36m\u001b[0m\n\u001b[0;31m    print(\"He said, \"John's program is easy to read\"\")\u001b[0m\n\u001b[0m                         ^\u001b[0m\n\u001b[0;31mSyntaxError\u001b[0m\u001b[0;31m:\u001b[0m unterminated string literal (detected at line 1)\n"
     ]
    }
   ],
   "source": [
    "#trying to make the output to have double quotes but an error occurs\n",
    "print(\"He said, \"John's program is easy to read\"\")"
   ]
  },
  {
   "cell_type": "code",
   "execution_count": 10,
   "id": "6e62f176-d508-419c-95de-f4a2ed4e540e",
   "metadata": {},
   "outputs": [
    {
     "name": "stdout",
     "output_type": "stream",
     "text": [
      "He said, \"John's program is easy to read\"\n"
     ]
    }
   ],
   "source": [
    "#to solve the above error we use the escape characters and this is the \\\"\n",
    "print(\"He said, \\\"John's program is easy to read\\\"\")"
   ]
  },
  {
   "cell_type": "code",
   "execution_count": 14,
   "id": "29ea8940-5df2-4e80-a16b-538237cee7a4",
   "metadata": {},
   "outputs": [
    {
     "name": "stdout",
     "output_type": "stream",
     "text": [
      "the girl is \n",
      " tall\n",
      "the girl\n",
      "the boy\n",
      "the girlthe boy\n"
     ]
    }
   ],
   "source": [
    " #other escape characters include \\b,\\t,\\n,\\',\\r,\\f,\\\\\n",
    "#\\n this is called the linefeed it causes the output to go to the next line\n",
    "print(\"the girl is \\n tall\")\n",
    "#\\n this also automatically makes the output to go the next line even wen it is not included \n",
    "print(\"the girl\")\n",
    "print(\"the boy\")\n",
    "#to prevent this from happening we add the end argument\n",
    "print(\"the girl\", end = '')\n",
    "print(\"the boy\")"
   ]
  },
  {
   "cell_type": "code",
   "execution_count": 47,
   "id": "6fca31e8-dec0-4b1a-8826-5659bd3c961e",
   "metadata": {},
   "outputs": [
    {
     "name": "stdout",
     "output_type": "stream",
     "text": [
      "Enter the radius and length of a cylinder: 2,5.5\n"
     ]
    },
    {
     "name": "stdout",
     "output_type": "stream",
     "text": [
      "the area is: 12.566370614359172 and the volume is: 69.11503837897544\n"
     ]
    }
   ],
   "source": [
    "#implementation of the end argument in this problem\n",
    "import math\n",
    "radius,length = eval(input(\"Enter the radius and length of a cylinder:\"))\n",
    "area = radius * radius * math.pi\n",
    "volume = area * length\n",
    "print(\"the area is:\", area, end = '')\n",
    "print(\" and the volume is:\",volume) \n",
    "\n"
   ]
  },
  {
   "cell_type": "code",
   "execution_count": 23,
   "id": "a049e8bc-0c43-4b41-8e20-bab49acd839e",
   "metadata": {},
   "outputs": [
    {
     "data": {
      "text/plain": [
       "'4'"
      ]
     },
     "execution_count": 23,
     "metadata": {},
     "output_type": "execute_result"
    }
   ],
   "source": [
    " #the use of the str function to convert a number to a string\n",
    "a = 4\n",
    "str(a)\n"
   ]
  },
  {
   "cell_type": "code",
   "execution_count": 25,
   "id": "06d8618c-06df-485d-8c1b-6663ab149dd2",
   "metadata": {},
   "outputs": [
    {
     "data": {
      "text/plain": [
       "'Welcome to Python'"
      ]
     },
     "execution_count": 25,
     "metadata": {},
     "output_type": "execute_result"
    }
   ],
   "source": [
    "#The String Concatenation Operator(+)\n",
    "#this concatenates three strings into one\n",
    "message = \"Welcome \" + \"to \" + \"Python\"\n",
    "message\n"
   ]
  },
  {
   "cell_type": "code",
   "execution_count": 28,
   "id": "b4b7856a-224e-46c7-a3dd-111f0fc1471c",
   "metadata": {},
   "outputs": [
    {
     "data": {
      "text/plain": [
       "'Chapter 3'"
      ]
     },
     "execution_count": 28,
     "metadata": {},
     "output_type": "execute_result"
    }
   ],
   "source": [
    "chapter = 3\n",
    "chapter1 = 'Chapter ' + str(chapter)\n",
    "chapter1\n"
   ]
  },
  {
   "cell_type": "code",
   "execution_count": 36,
   "id": "19cf548f-2f21-4ae0-b9aa-b7d4e0e6538a",
   "metadata": {},
   "outputs": [
    {
     "data": {
      "text/plain": [
       "'Chapter 3 and chapter 4'"
      ]
     },
     "execution_count": 36,
     "metadata": {},
     "output_type": "execute_result"
    }
   ],
   "source": [
    " #the augmented assignment(+=) can be used in string concatenation\n",
    "chapter1 += \" and chapter 4\"\n",
    "chapter1\n"
   ]
  },
  {
   "cell_type": "code",
   "execution_count": 38,
   "id": "f4254a42-b7a2-4726-a2f6-0519ba1fa765",
   "metadata": {},
   "outputs": [
    {
     "name": "stdout",
     "output_type": "stream",
     "text": [
      "enter the string: welcome to \n",
      "enter the string: python\n"
     ]
    },
    {
     "name": "stdout",
     "output_type": "stream",
     "text": [
      "welcome to \n",
      "python\n"
     ]
    }
   ],
   "source": [
    " #Reading strings from the console use the input function\n",
    "s1 = input(\"enter the string:\")\n",
    "s2 = input(\"enter the string:\")\n",
    "print(s1)\n",
    "print(s2)\n"
   ]
  },
  {
   "cell_type": "code",
   "execution_count": 39,
   "id": "c448bd6e-b9c8-49f4-a1d5-e71e8ce2dc8a",
   "metadata": {},
   "outputs": [
    {
     "name": "stdout",
     "output_type": "stream",
     "text": [
      "Enter a character:  q\n"
     ]
    },
    {
     "name": "stdout",
     "output_type": "stream",
     "text": [
      "t\n"
     ]
    }
   ],
   "source": [
    "x = input(\"Enter a character: \")\n",
    "ch = chr(ord(x) + 3)\n",
    "print(ch)\n"
   ]
  },
  {
   "cell_type": "code",
   "execution_count": 41,
   "id": "dff3477c-3821-4442-9e31-0a206f8535f1",
   "metadata": {},
   "outputs": [
    {
     "name": "stdout",
     "output_type": "stream",
     "text": [
      "Enter a character:  A\n",
      "Enter a character:  a\n"
     ]
    },
    {
     "name": "stdout",
     "output_type": "stream",
     "text": [
      "32\n"
     ]
    }
   ],
   "source": [
    "x = input(\"Enter a character: \")\n",
    "y = input(\"Enter a character: \")\n",
    "print(ord(y) - ord(x))\n"
   ]
  },
  {
   "cell_type": "code",
   "execution_count": 42,
   "id": "164bf5e1-cd61-4735-bf92-8b2502e92f65",
   "metadata": {},
   "outputs": [
    {
     "ename": "TypeError",
     "evalue": "can only concatenate str (not \"int\") to str",
     "output_type": "error",
     "traceback": [
      "\u001b[0;31m---------------------------------------------------------------------------\u001b[0m",
      "\u001b[0;31mTypeError\u001b[0m                                 Traceback (most recent call last)",
      "Cell \u001b[0;32mIn[42], line 1\u001b[0m\n\u001b[0;32m----> 1\u001b[0m title \u001b[38;5;241m=\u001b[39m \u001b[38;5;124;43m\"\u001b[39;49m\u001b[38;5;124;43mChapter \u001b[39;49m\u001b[38;5;124;43m\"\u001b[39;49m\u001b[43m \u001b[49m\u001b[38;5;241;43m+\u001b[39;49m\u001b[43m \u001b[49m\u001b[38;5;241;43m1\u001b[39;49m\n\u001b[1;32m      2\u001b[0m title\n",
      "\u001b[0;31mTypeError\u001b[0m: can only concatenate str (not \"int\") to str"
     ]
    }
   ],
   "source": [
    "#this gives an error becoz we cant concatenate a string with an integer\n",
    "title = \"Chapter \" + 1\n",
    "title"
   ]
  },
  {
   "cell_type": "code",
   "execution_count": 43,
   "id": "2513ceab-c2d9-48d6-9cd8-a2cadf8859d4",
   "metadata": {},
   "outputs": [
    {
     "data": {
      "text/plain": [
       "'Chapter 1'"
      ]
     },
     "execution_count": 43,
     "metadata": {},
     "output_type": "execute_result"
    }
   ],
   "source": [
    "#inorder to fix the above error we need to make the integer a string using the str function\n",
    "title = \"Chapter \" + str(1)\n",
    "title"
   ]
  },
  {
   "cell_type": "code",
   "execution_count": 44,
   "id": "32492d31-b006-426b-9430-ae125c619621",
   "metadata": {},
   "outputs": [
    {
     "name": "stdout",
     "output_type": "stream",
     "text": [
      "5\n",
      "23\n"
     ]
    }
   ],
   "source": [
    "#the first output is the summation of 2 and 3 whereas the second output is the concatenation of two strings\n",
    "sum = 2 + 3\n",
    "print(sum)\n",
    "s = '2' + '3'\n",
    "print(s)"
   ]
  },
  {
   "cell_type": "code",
   "execution_count": 50,
   "id": "dd12610a-252a-40f4-bc69-b6a077669c3f",
   "metadata": {},
   "outputs": [
    {
     "name": "stdout",
     "output_type": "stream",
     "text": [
      " welcome\n",
      " WELCOME\n"
     ]
    }
   ],
   "source": [
    " #INDRODUCTION TO OBJECTS AND METHODS\n",
    "s = \"welcome\" #s is an object\n",
    "s1 = s.lower()\n",
    "print(s1)\n",
    "\n",
    "s2 = s.upper()#the object is invoking the upper method to return the string in uppercase\n",
    "print(s2)"
   ]
  },
  {
   "cell_type": "code",
   "execution_count": 59,
   "id": "a3e29781-23bb-4118-b52b-7794dd2e37c8",
   "metadata": {},
   "outputs": [
    {
     "data": {
      "text/plain": [
       "'Welcome'"
      ]
     },
     "execution_count": 59,
     "metadata": {},
     "output_type": "execute_result"
    }
   ],
   "source": [
    "s = \"\\t Welcome \\n\"\n",
    "s1 = s.strip()\n",
    "s1\n"
   ]
  },
  {
   "cell_type": "code",
   "execution_count": 1,
   "id": "0b132d9d-1877-442e-8eaf-09cc99557c2b",
   "metadata": {},
   "outputs": [
    {
     "name": "stdin",
     "output_type": "stream",
     "text": [
      "Enter the radius and length of a cylinder: 2,5.5\n"
     ]
    },
    {
     "name": "stdout",
     "output_type": "stream",
     "text": [
      "the area is: 12.57 and the volume is: 69.12\n"
     ]
    }
   ],
   "source": [
    "#i want the output to have only 2 decimal points use the format function\n",
    "import math\n",
    "radius,length = eval(input(\"Enter the radius and length of a cylinder:\"))\n",
    "area = radius * radius * math.pi\n",
    "volume = area * length\n",
    "print(\"the area is:\", format(area, \".2f\"), end = '')\n",
    "print(\" and the volume is:\", format(volume, \".2f\") )\n"
   ]
  },
  {
   "cell_type": "code",
   "execution_count": 5,
   "id": "5de869fa-1d7d-4243-922d-ddff1ebd7085",
   "metadata": {},
   "outputs": [
    {
     "name": "stdin",
     "output_type": "stream",
     "text": [
      "enter the length of the vertex of the pentagon: 5.5\n"
     ]
    },
    {
     "name": "stdout",
     "output_type": "stream",
     "text": [
      "The area of a pentagon is: 108.61\n"
     ]
    }
   ],
   "source": [
    "#Computing the area of the pentagon\n",
    "r = eval(input(\"enter the length of the vertex of the pentagon:\"))\n",
    "s = 2 * r * math.sin(math.pi/5)\n",
    "area = ((3 * math.sqrt(3))/2)*s*s\n",
    "print(\"The area of a pentagon is:\", format(area, \".2f\"))\n"
   ]
  },
  {
   "cell_type": "code",
   "execution_count": 8,
   "id": "e8b299f8-7d60-428b-a0a8-a3f1e65f9146",
   "metadata": {},
   "outputs": [
    {
     "name": "stdin",
     "output_type": "stream",
     "text": [
      "enter the number of sides of the polygon: 5\n",
      "enter the length of the regular polygon: 4.5\n"
     ]
    },
    {
     "name": "stdout",
     "output_type": "stream",
     "text": [
      "enter the area of the regular polygon is 34.83966736192658\n"
     ]
    }
   ],
   "source": [
    "n = eval(input(\"enter the number of sides of the polygon:\"))\n",
    "s = eval(input(\"enter the length of the regular polygon:\"))\n",
    "area = (n * s*s)/(4 * math.tan(math.pi/n))\n",
    "print(\"enter the area of the regular polygon is\", area)\n"
   ]
  },
  {
   "cell_type": "code",
   "execution_count": 13,
   "id": "c979edad-bbee-45e0-8af6-0ee4b18d452f",
   "metadata": {},
   "outputs": [
    {
     "name": "stdin",
     "output_type": "stream",
     "text": [
      "Enter an ASCII code (between 0 and 127):  78\n"
     ]
    },
    {
     "name": "stdout",
     "output_type": "stream",
     "text": [
      "The character for ASCII code is: N\n"
     ]
    }
   ],
   "source": [
    "# Prompt the user to enter an ASCII code\n",
    "ascii_code = int(input(\"Enter an ASCII code (between 0 and 127): \"))\n",
    "\n",
    "# Check if the input is within the valid range\n",
    "if 0 <= ascii_code <= 127:\n",
    "    # Convert the ASCII code to its corresponding character\n",
    "    character = chr(ascii_code)\n",
    "    print(\"The character for ASCII code is:\", character)\n",
    "else:\n",
    "    print(\"Please enter a valid ASCII code between 0 and 127.\")\n"
   ]
  },
  {
   "cell_type": "code",
   "execution_count": null,
   "id": "369f2a02-7bf3-460b-b59b-0eb897c53169",
   "metadata": {},
   "outputs": [],
   "source": []
  }
 ],
 "metadata": {
  "kernelspec": {
   "display_name": "Python 3 (ipykernel)",
   "language": "python",
   "name": "python3"
  },
  "language_info": {
   "codemirror_mode": {
    "name": "ipython",
    "version": 3
   },
   "file_extension": ".py",
   "mimetype": "text/x-python",
   "name": "python",
   "nbconvert_exporter": "python",
   "pygments_lexer": "ipython3",
   "version": "3.12.3"
  }
 },
 "nbformat": 4,
 "nbformat_minor": 5
}
