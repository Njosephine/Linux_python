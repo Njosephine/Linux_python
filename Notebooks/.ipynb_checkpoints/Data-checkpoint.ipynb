{
 "cells": [
  {
   "cell_type": "code",
   "execution_count": 20,
   "id": "f5b4aa45-1180-40d5-83eb-d68010e10e14",
   "metadata": {},
   "outputs": [
    {
     "name": "stdout",
     "output_type": "stream",
     "text": [
      "python is fun Welcome to Computer Science\n",
      "Programming is fun\n",
      "python is fun python is fun python is fun python is fun python is fun \n"
     ]
    }
   ],
   "source": [
    "#PRINTING IN PYTHON\n",
    "print (\"python is fun\" ,end =' ')\n",
    "print (\"Welcome to Computer Science\")\n",
    "print (\"Programming is fun\")\n",
    "print (\"python is fun\" \" \" *5)"
   ]
  },
  {
   "cell_type": "code",
   "execution_count": 9,
   "id": "d3ed8d66-7fab-4568-89af-e329db289661",
   "metadata": {},
   "outputs": [
    {
     "name": "stdout",
     "output_type": "stream",
     "text": [
      "FFFFFFF  U       U   NN     NN\n",
      "FF       U       U   NNN    NN\n",
      "FFFFFF   U       U   NN N   NN\n",
      "FF        U     U    NN  N  NN\n",
      "FF          UUU      NN    NNN \n"
     ]
    }
   ],
   "source": [
    "#display the a pattern\n",
    "pattern = [\"FFFFFFF  U       U   NN     NN\",\n",
    "           \"FF       U       U   NNN    NN\",\n",
    "           \"FFFFFF   U       U   NN N   NN\",\n",
    "           \"FF        U     U    NN  N  NN\",\n",
    "           \"FF          UUU      NN    NNN \"       \n",
    "    \n",
    "]\n",
    "for x in pattern:\n",
    "   print(x)\n"
   ]
  },
  {
   "cell_type": "code",
   "execution_count": 14,
   "id": "33ae10a6-87a3-45c2-b337-ac387ed4e87b",
   "metadata": {},
   "outputs": [
    {
     "name": "stdout",
     "output_type": "stream",
     "text": [
      "a     a^2    a^3\n",
      "1      1      1\n",
      "2      4      8\n",
      "3      9      27\n",
      "4      16     64\n"
     ]
    }
   ],
   "source": [
    "table = [\"a     a^2    a^3\",\n",
    "         \"1      1      1\",\n",
    "         \"2      4      8\",\n",
    "         \"3      9      27\",\n",
    "         \"4      16     64\"\n",
    "    \n",
    "]\n",
    "for x in table:\n",
    "   print(x) "
   ]
  },
  {
   "cell_type": "code",
   "execution_count": 15,
   "id": "2bf22517-76ee-488b-9cb5-171ddee71eeb",
   "metadata": {},
   "outputs": [
    {
     "name": "stdout",
     "output_type": "stream",
     "text": [
      "the result is: 0.7833333333333333\n"
     ]
    }
   ],
   "source": [
    "#compution of an exprssion\n",
    "expression = ((9.5*4.5)-(2.5*3))/(45.5-.5)\n",
    "print(\"the result is:\",expression)"
   ]
  },
  {
   "cell_type": "code",
   "execution_count": 16,
   "id": "2d36fb42-ca35-40d4-bd34-7ca20e37658a",
   "metadata": {},
   "outputs": [
    {
     "data": {
      "text/plain": [
       "45"
      ]
     },
     "execution_count": 16,
     "metadata": {},
     "output_type": "execute_result"
    }
   ],
   "source": [
    "#summation of the following series\n",
    "sum = 1+2+3+4+5+6+7+8+9\n",
    "sum\n"
   ]
  },
  {
   "cell_type": "code",
   "execution_count": 19,
   "id": "5d459ab2-0e87-4766-9e5f-71f2d0287c53",
   "metadata": {},
   "outputs": [
    {
     "data": {
      "text/plain": [
       "3.017071817071818"
      ]
     },
     "execution_count": 19,
     "metadata": {},
     "output_type": "execute_result"
    }
   ],
   "source": [
    "pi = 4 * (1-1/3+1/5-1/7+1/9-1/11)\n",
    "pi\n",
    "pi = 4 * (1-1/3+1/5-1/7+1/9-1/11+1/13-1/15)\n",
    "pi"
   ]
  },
  {
   "cell_type": "code",
   "execution_count": 24,
   "id": "9938330b-6a85-44c2-bd83-973b1ea3d044",
   "metadata": {},
   "outputs": [
    {
     "data": {
      "text/plain": [
       "95.0330975"
      ]
     },
     "execution_count": 24,
     "metadata": {},
     "output_type": "execute_result"
    }
   ],
   "source": [
    "#computation of the perimeter and area of the circle whose radius is 5.5\n",
    "radius = 5.5\n",
    "pi = 3.14159\n",
    "area = radius * radius * pi\n",
    "area\n",
    "\n",
    "\n"
   ]
  },
  {
   "cell_type": "code",
   "execution_count": 25,
   "id": "a9590856-3eb8-4270-9815-bffcd6cc2c74",
   "metadata": {},
   "outputs": [
    {
     "data": {
      "text/plain": [
       "34.55749"
      ]
     },
     "execution_count": 25,
     "metadata": {},
     "output_type": "execute_result"
    }
   ],
   "source": [
    "perimeter = 2 * radius * pi\n",
    "perimeter"
   ]
  },
  {
   "cell_type": "code",
   "execution_count": 42,
   "id": "a7225604-120c-4ebd-bd65-a046df6b447e",
   "metadata": {},
   "outputs": [
    {
     "name": "stdin",
     "output_type": "stream",
     "text": [
      "Enter the radius of the circle: 2.5\n"
     ]
    },
    {
     "name": "stdout",
     "output_type": "stream",
     "text": [
      "the area of a circle is: 20\n"
     ]
    }
   ],
   "source": [
    "#Reading input from the console\n",
    "#prompting the user to enter the radius\n",
    "# input :: Allowas the reading of the input as a string\n",
    "# eval :: Allows converting of a string to a number\n",
    "radius = eval(input(\"Enter the radius of the circle:\"))\n",
    "area =( pi * radius * radius)\n",
    "print (\"the area of a circle is:\",round(area))"
   ]
  },
  {
   "cell_type": "markdown",
   "id": "df2e59f6-f571-4888-a4ec-4bee6c4a6eaf",
   "metadata": {},
   "source": [
    "\n",
    "                "
   ]
  },
  {
   "cell_type": "code",
   "execution_count": 34,
   "id": "eaf0e6b6-3a59-48c2-b106-b122996a6df7",
   "metadata": {},
   "outputs": [
    {
     "name": "stdin",
     "output_type": "stream",
     "text": [
      "enter number1: 2\n",
      "enter number2: 3\n",
      "enter number3: 4\n"
     ]
    },
    {
     "name": "stdout",
     "output_type": "stream",
     "text": [
      "the average of three numbers is: 3.0\n"
     ]
    }
   ],
   "source": [
    "#A program that prompts the user to enter three values and then computes their average\n",
    "number1 = eval(input(\"enter number1:\"))\n",
    "number2 = eval(input(\"enter number2:\"))\n",
    "number3 = eval(input(\"enter number3:\"))\n",
    "average = (number1 + number2 + number3)/3\n",
    "print (\"the average of three numbers is:\",average)"
   ]
  },
  {
   "cell_type": "code",
   "execution_count": 1,
   "id": "539edd42-ec75-4ab4-89e0-7e307855bf6e",
   "metadata": {},
   "outputs": [
    {
     "name": "stdin",
     "output_type": "stream",
     "text": [
      "Enter the three numbers: 1,2,3\n"
     ]
    },
    {
     "name": "stdout",
     "output_type": "stream",
     "text": [
      "the average of three numbers is: 2.0\n"
     ]
    }
   ],
   "source": [
    "#Simultaneous assignment\n",
    "number1,number2,number3 = eval(input(\"Enter the three numbers:\"))\n",
    "average = (number1 + number2 + number3)/3\n",
    "print (\"the average of three numbers is:\",average)\n"
   ]
  },
  {
   "cell_type": "code",
   "execution_count": 23,
   "id": "7ec78502-49b0-4cbd-8460-04a165ade118",
   "metadata": {},
   "outputs": [
    {
     "name": "stdin",
     "output_type": "stream",
     "text": [
      "Enter the raduis of the cylider: 2\n",
      "Enter the length of the cylider: 3\n"
     ]
    },
    {
     "name": "stdout",
     "output_type": "stream",
     "text": [
      "the area of the cylider is: 12.56 and the volume of the cylider is: 37.68\n"
     ]
    }
   ],
   "source": [
    "#COMPUTATION\n",
    "radius = eval(input(\"Enter the raduis of the cylider:\"))\n",
    "length = eval(inpu2\n",
    "              t(\"Enter the length of the cylider:\"))\n",
    "pi = 3.14\n",
    "area = radius * radius *pi\n",
    "volume = area *length\n",
    "print(\"the area of the cylider is:\",area ,end = ' ')\n",
    "print(\"and the volume of the cylider is:\",volume)"
   ]
  },
  {
   "cell_type": "code",
   "execution_count": 5,
   "id": "fc8be6f3-3c93-4a87-9e27-257f61151167",
   "metadata": {},
   "outputs": [
    {
     "name": "stdin",
     "output_type": "stream",
     "text": [
      "enter the pound: 55.5\n"
     ]
    },
    {
     "name": "stdout",
     "output_type": "stream",
     "text": [
      "55.5 pounds is: 25.197\n"
     ]
    }
   ],
   "source": [
    "pound = eval(input(\"enter the pound:\"))\n",
    "t = 0.454\n",
    "kilo = t * pound\n",
    "print (\"55.5 pounds is:\",kilo)\n"
   ]
  },
  {
   "cell_type": "code",
   "execution_count": 9,
   "id": "3d54fe3e-491b-4edf-9d01-761b68f8823d",
   "metadata": {},
   "outputs": [
    {
     "name": "stdin",
     "output_type": "stream",
     "text": [
      "Enter the finalAccontValue: 1000\n",
      "Enter the AnnualInterestRate: 4.25\n",
      "Enter the numberOfYears: 5\n"
     ]
    },
    {
     "ename": "NameError",
     "evalue": "name 'finalAccountValue' is not defined",
     "output_type": "error",
     "traceback": [
      "\u001b[1;31m---------------------------------------------------------------------------\u001b[0m",
      "\u001b[1;31mNameError\u001b[0m                                 Traceback (most recent call last)",
      "Cell \u001b[1;32mIn[9], line 6\u001b[0m\n\u001b[0;32m      4\u001b[0m monthlyInterestRate \u001b[38;5;241m=\u001b[39m annualInterest\u001b[38;5;241m/\u001b[39m\u001b[38;5;241m12\u001b[39m\n\u001b[0;32m      5\u001b[0m numberOfMonths \u001b[38;5;241m=\u001b[39m \u001b[38;5;241m12\u001b[39m\u001b[38;5;241m/\u001b[39mnumberOfYears\n\u001b[1;32m----> 6\u001b[0m initialDepositAmount \u001b[38;5;241m=\u001b[39m (\u001b[43mfinalAccountValue\u001b[49m)\u001b[38;5;241m/\u001b[39m(\u001b[38;5;241m1\u001b[39m\u001b[38;5;241m+\u001b[39mmonthlyInterestRate)\u001b[38;5;241m*\u001b[39m\u001b[38;5;241m*\u001b[39mnumberOfMonths\n\u001b[0;32m      7\u001b[0m \u001b[38;5;28mprint\u001b[39m(\u001b[38;5;124m\"\u001b[39m\u001b[38;5;124mthe intialDepositAmount is:\u001b[39m\u001b[38;5;124m\"\u001b[39m,intialDepositAmount)\n",
      "\u001b[1;31mNameError\u001b[0m: name 'finalAccountValue' is not defined"
     ]
    }
   ],
   "source": [
    "finalAccontValue = eval(input(\"Enter the finalAccontValue:\"))\n",
    "annualInterest = eval(input(\"Enter the AnnualInterestRate:\"))\n",
    "numberOfYears = eval(input(\"Enter the numberOfYears:\"))\n",
    "monthlyInterestRate = annualInterest/12\n",
    "numberOfMonths = 12/numberOfYears\n",
    "initialDepositAmount = (finalAccountValue)/(1+monthlyInterestRate)**numberOfMonths\n",
    "print(\"the intialDepositAmount is:\",intialDepositAmount)\n",
    "\n",
    "                    "
   ]
  },
  {
   "cell_type": "code",
   "execution_count": 14,
   "id": "f0a67e64-21e8-447c-a67c-98769a4efdac",
   "metadata": {},
   "outputs": [
    {
     "data": {
      "text/plain": [
       "2"
      ]
     },
     "execution_count": 14,
     "metadata": {},
     "output_type": "execute_result"
    }
   ],
   "source": [
    "#python fuctions\n",
    "#abs rsults the absolute value\n",
    "abs(-2)\n",
    "\n"
   ]
  },
  {
   "cell_type": "code",
   "execution_count": 13,
   "id": "6eaa37ef-df98-4c0d-a598-9eecbf335ec5",
   "metadata": {},
   "outputs": [
    {
     "data": {
      "text/plain": [
       "1000"
      ]
     },
     "execution_count": 13,
     "metadata": {},
     "output_type": "execute_result"
    }
   ],
   "source": [
    "#returns the largest value\n",
    "max(-10,1000,12)"
   ]
  },
  {
   "cell_type": "code",
   "execution_count": 15,
   "id": "131db76e-1ead-4944-8cec-a5a46013c48b",
   "metadata": {},
   "outputs": [
    {
     "data": {
      "text/plain": [
       "-10"
      ]
     },
     "execution_count": 15,
     "metadata": {},
     "output_type": "execute_result"
    }
   ],
   "source": [
    "returns the smallest value\n",
    "min(-10,1000,12)"
   ]
  },
  {
   "cell_type": "code",
   "execution_count": 16,
   "id": "0f82538d-5227-445b-84c4-c34d1509cdf5",
   "metadata": {},
   "outputs": [
    {
     "data": {
      "text/plain": [
       "8"
      ]
     },
     "execution_count": 16,
     "metadata": {},
     "output_type": "execute_result"
    }
   ],
   "source": [
    "#  pow same as a**b\n",
    "pow(2,3)"
   ]
  },
  {
   "cell_type": "code",
   "execution_count": 18,
   "id": "95ba4b1a-7a0a-4775-809a-dfcd1f0342b9",
   "metadata": {},
   "outputs": [
    {
     "data": {
      "text/plain": [
       "2"
      ]
     },
     "execution_count": 18,
     "metadata": {},
     "output_type": "execute_result"
    }
   ],
   "source": [
    "#round returns the nearest to the value\n",
    "round(2.1)"
   ]
  },
  {
   "cell_type": "code",
   "execution_count": 21,
   "id": "7fb37426-47e0-4603-8b8b-42d0591ea80c",
   "metadata": {},
   "outputs": [
    {
     "data": {
      "text/plain": [
       "2.0"
      ]
     },
     "execution_count": 21,
     "metadata": {},
     "output_type": "execute_result"
    }
   ],
   "source": [
    "#mathematicla functions\n",
    "\n",
    "math.sqrt(4)"
   ]
  },
  {
   "cell_type": "code",
   "execution_count": 20,
   "id": "d50cd5ca-1c7a-4c86-a586-414df6be29cd",
   "metadata": {},
   "outputs": [
    {
     "data": {
      "text/plain": [
       "-2.4492935982947064e-16"
      ]
     },
     "execution_count": 20,
     "metadata": {},
     "output_type": "execute_result"
    }
   ],
   "source": [
    "math.sin(2 * math.pi)"
   ]
  },
  {
   "cell_type": "code",
   "execution_count": 2,
   "id": "b252c8c6-1063-4e54-b1f9-dc3e99cc25fd",
   "metadata": {},
   "outputs": [
    {
     "data": {
      "text/plain": [
       "97"
      ]
     },
     "execution_count": 2,
     "metadata": {},
     "output_type": "execute_result"
    }
   ],
   "source": [
    "#characters\n",
    "#ASCII\n",
    "#FUNCTIONS USED ord,chr\n",
    "#x  = \"A\"\n",
    "#ord(x)\n",
    "y = \"a\"\n",
    "ord(y)\n"
   ]
  },
  {
   "cell_type": "code",
   "execution_count": 3,
   "id": "69142b10-e23d-404a-b290-bc0de33cddeb",
   "metadata": {},
   "outputs": [
    {
     "data": {
      "text/plain": [
       "'a'"
      ]
     },
     "execution_count": 3,
     "metadata": {},
     "output_type": "execute_result"
    }
   ],
   "source": [
    "# chr function\n",
    "x = 97\n",
    "chr(x)"
   ]
  },
  {
   "cell_type": "code",
   "execution_count": 4,
   "id": "24774ae2-b6ce-484c-a9fe-c5d4487b67b5",
   "metadata": {},
   "outputs": [
    {
     "data": {
      "text/plain": [
       "98"
      ]
     },
     "execution_count": 4,
     "metadata": {},
     "output_type": "execute_result"
    }
   ],
   "source": [
    "y = \"b\"\n",
    "ord(y)"
   ]
  },
  {
   "cell_type": "code",
   "execution_count": 5,
   "id": "e6c0589c-60b9-488d-a3ca-f9c2a726982b",
   "metadata": {},
   "outputs": [
    {
     "data": {
      "text/plain": [
       "99"
      ]
     },
     "execution_count": 5,
     "metadata": {},
     "output_type": "execute_result"
    }
   ],
   "source": [
    "c = \"c\"\n",
    "ord(c)"
   ]
  },
  {
   "cell_type": "code",
   "execution_count": 6,
   "id": "2dfd755c-2cde-4fc9-b13d-17a8211c4a19",
   "metadata": {},
   "outputs": [
    {
     "data": {
      "text/plain": [
       "65"
      ]
     },
     "execution_count": 6,
     "metadata": {},
     "output_type": "execute_result"
    }
   ],
   "source": [
    "x = \"A\"\n",
    "ord(x)"
   ]
  },
  {
   "cell_type": "code",
   "execution_count": 7,
   "id": "2b5b6537-fc4c-409a-818f-2e6e493ceeff",
   "metadata": {},
   "outputs": [
    {
     "data": {
      "text/plain": [
       "66"
      ]
     },
     "execution_count": 7,
     "metadata": {},
     "output_type": "execute_result"
    }
   ],
   "source": [
    "x = \"B\"\n",
    "ord(x)"
   ]
  },
  {
   "cell_type": "code",
   "execution_count": 8,
   "id": "ce0a8db7-cb45-48fa-a829-385e4411155b",
   "metadata": {},
   "outputs": [
    {
     "ename": "SyntaxError",
     "evalue": "invalid syntax. Perhaps you forgot a comma? (2873995009.py, line 2)",
     "output_type": "error",
     "traceback": [
      "\u001b[1;36m  Cell \u001b[1;32mIn[8], line 2\u001b[1;36m\u001b[0m\n\u001b[1;33m    print(\"he said,\"he is strong\"\")\u001b[0m\n\u001b[1;37m          ^\u001b[0m\n\u001b[1;31mSyntaxError\u001b[0m\u001b[1;31m:\u001b[0m invalid syntax. Perhaps you forgot a comma?\n"
     ]
    }
   ],
   "source": [
    "#escape sequences\n",
    "print(\"he said,\"he is strong\"\")"
   ]
  },
  {
   "cell_type": "code",
   "execution_count": 11,
   "id": "c253ecd5-bf1d-4da5-80e1-aafcf71979fd",
   "metadata": {},
   "outputs": [
    {
     "name": "stdout",
     "output_type": "stream",
     "text": [
      "he said,\"he is strong\"\n"
     ]
    }
   ],
   "source": [
    "#to solve this use the escape sequences and also if use want to allow your string of characters to be quoted\n",
    "print(\"he said,\\\"he is strong\\\"\")"
   ]
  },
  {
   "cell_type": "code",
   "execution_count": 15,
   "id": "accce31f-de6e-4754-aafa-9f31737fea61",
   "metadata": {},
   "outputs": [
    {
     "name": "stdout",
     "output_type": "stream",
     "text": [
      "he said,\"he is strong\"\n",
      "he said,\"he is \n",
      " strong\"\n"
     ]
    }
   ],
   "source": [
    "print(\"he said,\\\"he is strong\\\"\")\n",
    "print(\"he said,\\\"he is \\n strong\\\"\")"
   ]
  },
  {
   "cell_type": "code",
   "execution_count": 19,
   "id": "bbbe4a69-49e7-4438-977a-f624abde493e",
   "metadata": {},
   "outputs": [
    {
     "name": "stdout",
     "output_type": "stream",
     "text": [
      "he said,\"he is strong\" he said,\"he is strong\"\n"
     ]
    }
   ],
   "source": [
    "# if you dont want to break the two statements or to join the two statements\n",
    "print(\"he said,\\\"he is strong\\\"\", end = ' ')\n",
    "print(\"he said,\\\"he is strong\\\"\")"
   ]
  },
  {
   "cell_type": "code",
   "execution_count": 25,
   "id": "e73bdf10-fee2-4688-a771-61bac9beaa34",
   "metadata": {},
   "outputs": [
    {
     "name": "stdout",
     "output_type": "stream",
     "text": [
      "python is fun Welcome to Computer Science\n",
      "Programming is fun\n",
      "python is fun python is fun python is fun python is fun python is fun \n"
     ]
    },
    {
     "data": {
      "text/plain": [
       "'welcome to python'"
      ]
     },
     "execution_count": 25,
     "metadata": {},
     "output_type": "execute_result"
    }
   ],
   "source": [
    "print (\"python is fun\" ,end =' ')\n",
    "print (\"Welcome to Computer Science\")\n",
    "print (\"Programming is fun\")\n",
    "print (\"python is fun\" \" \" *5)\n",
    "message = 'welcome to python'\n",
    "message"
   ]
  },
  {
   "cell_type": "code",
   "execution_count": 27,
   "id": "725f3d9b-d83e-46c6-bbb3-cd056502fc21",
   "metadata": {},
   "outputs": [
    {
     "data": {
      "text/plain": [
       "'welcome to python and pythod is fun '"
      ]
     },
     "execution_count": 27,
     "metadata": {},
     "output_type": "execute_result"
    }
   ],
   "source": [
    "#String contenation operator(+)\n",
    "message = 'welcome to python'\n",
    "add = ' and python is fun '\n",
    "total = message + add\n",
    "total"
   ]
  },
  {
   "cell_type": "code",
   "execution_count": 9,
   "id": "eb33345f-ade5-453a-b824-656ee4b13290",
   "metadata": {},
   "outputs": [
    {
     "data": {
      "text/plain": [
       "str"
      ]
     },
     "execution_count": 9,
     "metadata": {},
     "output_type": "execute_result"
    }
   ],
   "source": [
    "# str function retuns a string integer\n",
    "x = '4'\n",
    "str(x)\n",
    "type(x)"
   ]
  },
  {
   "cell_type": "code",
   "execution_count": 37,
   "id": "f917898f-856b-4965-8b1a-ddeb9d13e53b",
   "metadata": {},
   "outputs": [
    {
     "name": "stdin",
     "output_type": "stream",
     "text": [
      "Enter the string:  \"\"  hello\n",
      "Enter the string: world\n"
     ]
    },
    {
     "name": "stdout",
     "output_type": "stream",
     "text": [
      "the output is:hello\n",
      "the output is:world\n"
     ]
    },
    {
     "data": {
      "text/plain": [
       "'hello world'"
      ]
     },
     "execution_count": 37,
     "metadata": {},
     "output_type": "execute_result"
    }
   ],
   "source": [
    "#input function reads a string from the console\n",
    "y1 = input(\"Enter the string:\")\n",
    "y2 = input(\"Enter the string:\")\n",
    "print(\"the output is:\" +y1)\n",
    "print(\"the output is:\" +y2)\n",
    "add = y1 +' ' + y2 \n",
    "add\n"
   ]
  },
  {
   "cell_type": "code",
   "execution_count": 12,
   "id": "94bda9e7-292e-46dd-8a92-32464e506429",
   "metadata": {},
   "outputs": [
    {
     "name": "stdin",
     "output_type": "stream",
     "text": [
      "Enter the string: hello\n",
      "Enter the string: world\n"
     ]
    },
    {
     "name": "stdout",
     "output_type": "stream",
     "text": [
      "the output is:hello\n",
      "the output is:world\n"
     ]
    }
   ],
   "source": [
    "y1 = input(\"Enter the string:\")\n",
    "y2 = input(\"Enter the string:\")\n",
    "print(\"the output is:\" +y1)\n",
    "print(\"the output is:\" +y2)\n",
    "add = y1 +' ' + y2 \n",
    "add\n",
    "s1 = add.strip()"
   ]
  },
  {
   "cell_type": "code",
   "execution_count": null,
   "id": "2e613954-a059-473f-bc0f-97d028635727",
   "metadata": {},
   "outputs": [],
   "source": []
  },
  {
   "cell_type": "code",
   "execution_count": 44,
   "id": "ea20f3c6-1074-4e48-b324-0c814aadb919",
   "metadata": {},
   "outputs": [
    {
     "data": {
      "text/plain": [
       "140732731548048"
      ]
     },
     "execution_count": 44,
     "metadata": {},
     "output_type": "execute_result"
    }
   ],
   "source": [
    "#OBJECTS AND METHODS\n",
    "x = True\n",
    "type(x)\n",
    "id(x)\n",
    "\n"
   ]
  },
  {
   "cell_type": "code",
   "execution_count": 43,
   "id": "230e1aaa-bf26-4872-ada0-e4bd7e38271e",
   "metadata": {},
   "outputs": [
    {
     "data": {
      "text/plain": [
       "str"
      ]
     },
     "execution_count": 43,
     "metadata": {},
     "output_type": "execute_result"
    }
   ],
   "source": [
    "x = '222.0'\n",
    "type(x)"
   ]
  },
  {
   "cell_type": "code",
   "execution_count": 27,
   "id": "f6a7a3f4-359d-4ed2-8ffe-85f6e0886dd9",
   "metadata": {},
   "outputs": [
    {
     "name": "stdout",
     "output_type": "stream",
     "text": [
      "welcome\n",
      "welcome\n"
     ]
    }
   ],
   "source": [
    "w = 'welcome'\n",
    "print(w)\n",
    "s1 = w.strip()\n",
    "print(s1)"
   ]
  },
  {
   "cell_type": "code",
   "execution_count": null,
   "id": "71cb3f88-ff46-49b7-8ac5-9ef714f09736",
   "metadata": {},
   "outputs": [],
   "source": []
  },
  {
   "cell_type": "code",
   "execution_count": 22,
   "id": "09925763-20f1-460d-b46d-836747b4666f",
   "metadata": {},
   "outputs": [
    {
     "name": "stdout",
     "output_type": "stream",
     "text": [
      "\tgeorgia\n",
      "\n"
     ]
    }
   ],
   "source": [
    "s2 = \"\\tGeorgia\\n\"\n",
    "s3 = s2.lower()\n",
    "print(s3)"
   ]
  },
  {
   "cell_type": "code",
   "execution_count": 21,
   "id": "bec4cde7-7180-47fd-b0c0-18b10b7ca103",
   "metadata": {},
   "outputs": [
    {
     "name": "stdout",
     "output_type": "stream",
     "text": [
      "\tGeorgia\n",
      "\n"
     ]
    }
   ],
   "source": [
    "s2 = \"\\tGeorgia\\n\"\n",
    "print(s2)"
   ]
  },
  {
   "cell_type": "code",
   "execution_count": 20,
   "id": "9bd88072-8e6d-45fe-b75d-2305d5df2051",
   "metadata": {},
   "outputs": [
    {
     "name": "stdout",
     "output_type": "stream",
     "text": [
      "\tGEORGIA\n",
      "\n",
      "GEORGIA\n"
     ]
    }
   ],
   "source": [
    "s2 = \"\\tGeorgia\\n\"\n",
    "s3 = s2.upper()\n",
    "print(s3)\n",
    "q = s3.strip()\n",
    "print (q)"
   ]
  },
  {
   "cell_type": "code",
   "execution_count": 33,
   "id": "faf851be-f2a9-4cad-bec2-12ed604589ee",
   "metadata": {},
   "outputs": [
    {
     "name": "stdout",
     "output_type": "stream",
     "text": [
      "Good\t\n",
      "Morning\n"
     ]
    }
   ],
   "source": [
    "s = \"\\tGood\\t\\nMorning\\n\"\n",
    "s1 = s.strip()\n",
    "print(s1)"
   ]
  },
  {
   "cell_type": "code",
   "execution_count": null,
   "id": "38ddb591-2eaf-4a33-83dd-251eacf93150",
   "metadata": {},
   "outputs": [],
   "source": []
  },
  {
   "cell_type": "markdown",
   "id": "f08f8e35-595c-4786-b4cb-e5dc237151fe",
   "metadata": {},
   "source": [
    "s = \"\\tGood\\tMorning\\n\"\n",
    "s"
   ]
  },
  {
   "cell_type": "code",
   "execution_count": 31,
   "id": "5926b211-52f6-4d92-ac3b-18b5b7e7e440",
   "metadata": {},
   "outputs": [
    {
     "name": "stdout",
     "output_type": "stream",
     "text": [
      "\tGood\t\n",
      "Morning\n",
      "\n"
     ]
    }
   ],
   "source": [
    "s = \"\\tGood\\nMorning\\n\"\n",
    "print(s)"
   ]
  },
  {
   "cell_type": "code",
   "execution_count": 30,
   "id": "a1079bda-65ca-4244-a2b8-6e86813279b4",
   "metadata": {},
   "outputs": [
    {
     "name": "stdin",
     "output_type": "stream",
     "text": [
      "Enter the amount: 2000000000\n",
      "Enter the interestRate 0.5\n"
     ]
    },
    {
     "name": "stdout",
     "output_type": "stream",
     "text": [
      "the interest is: 1000000000.0\n"
     ]
    }
   ],
   "source": [
    "#formatting Numbers and strings\n",
    "amount = eval(input(\"Enter the amount:\"))\n",
    "interestRate = eval(input(\"Enter the interestRate\"))\n",
    "interest = amount * interestRate\n",
    "print(\"the interest is:\",interest)"
   ]
  },
  {
   "cell_type": "code",
   "execution_count": 58,
   "id": "94c3bf31-aa10-4f86-8099-dfe8e6cee6a3",
   "metadata": {},
   "outputs": [
    {
     "name": "stdin",
     "output_type": "stream",
     "text": [
      "Enter the amount: 23.678\n",
      "Enter the interestRate 0.0013\n"
     ]
    },
    {
     "name": "stdout",
     "output_type": "stream",
     "text": [
      "the interest is: 0\n"
     ]
    }
   ],
   "source": [
    "# i only want two decimal numbers,round doesnt provide that \n",
    "amount = eval(input(\"Enter the amount:\"))\n",
    "interestRate = eval(input(\"Enter the interestRate\"))\n",
    "interest = amount * interestRate\n",
    "print(\"the interest is:\",round(interest,2))"
   ]
  },
  {
   "cell_type": "code",
   "execution_count": 64,
   "id": "0aa3d2ca-d027-4dd1-83f3-f5c782225717",
   "metadata": {},
   "outputs": [
    {
     "name": "stdin",
     "output_type": "stream",
     "text": [
      "Enter the amount: 12618.98\n",
      "Enter the interestRate 0.0013\n"
     ]
    },
    {
     "name": "stdout",
     "output_type": "stream",
     "text": [
      "the interest is: 16.405\n"
     ]
    }
   ],
   "source": [
    "# i only want two decimal numbers but the format does that\n",
    "amount = eval(input(\"Enter the amount:\"))\n",
    "interestRate = eval(input(\"Enter the interestRate\"))\n",
    "interest = amount * interestRate\n",
    "print(\"the interest is:\",format(interest, \".3f\"))"
   ]
  },
  {
   "cell_type": "code",
   "execution_count": 62,
   "id": "9d7dc3d1-efcc-4fbb-b528-c8873bd20686",
   "metadata": {},
   "outputs": [
    {
     "name": "stdout",
     "output_type": "stream",
     "text": [
      "Interest is 16.40\n"
     ]
    }
   ],
   "source": [
    ">>> amount = 12618.98\n",
    ">>> interestRate = 0.0013\n",
    ">>> interest = amount * interestRate\n",
    ">>> print(\"Interest is\",format(interest, \".2f\"))"
   ]
  },
  {
   "cell_type": "code",
   "execution_count": 7,
   "id": "8c7b4f1a-2f76-4eb1-a807-76d3b5027cee",
   "metadata": {},
   "outputs": [
    {
     "data": {
      "text/plain": [
       "9"
      ]
     },
     "execution_count": 7,
     "metadata": {},
     "output_type": "execute_result"
    }
   ],
   "source": [
    "s = 4\n",
    "q = 5\n",
    "z = 4 + 5\n",
    "z\n",
    "\n"
   ]
  },
  {
   "cell_type": "code",
   "execution_count": 42,
   "id": "c7d9f278-fec8-4670-a860-2b5149f3bc83",
   "metadata": {},
   "outputs": [
    {
     "name": "stdout",
     "output_type": "stream",
     "text": [
      "   hello  world   \n"
     ]
    }
   ],
   "source": [
    "s = \"   hello  world   \"\n",
    "print(s)"
   ]
  },
  {
   "cell_type": "code",
   "execution_count": 15,
   "id": "ee7cc09b-e876-4a21-8b17-f8f2201a42d5",
   "metadata": {},
   "outputs": [
    {
     "name": "stdout",
     "output_type": "stream",
     "text": [
      "hello  world\n"
     ]
    }
   ],
   "source": [
    "#the use of a strip\n",
    "q = s.strip()\n",
    "print(q)"
   ]
  },
  {
   "cell_type": "code",
   "execution_count": 36,
   "id": "adb9b5f3-9a57-4814-9907-4a13a4062845",
   "metadata": {},
   "outputs": [
    {
     "name": "stdout",
     "output_type": "stream",
     "text": [
      "good \n",
      " afternoon\n"
     ]
    }
   ],
   "source": [
    "w = \"good \\r\\n afternoon\"\n",
    "print(w)"
   ]
  },
  {
   "cell_type": "code",
   "execution_count": 37,
   "id": "343023dc-f636-4396-8176-5634bfcac3df",
   "metadata": {},
   "outputs": [
    {
     "name": "stdout",
     "output_type": "stream",
     "text": [
      " afternoon\n"
     ]
    }
   ],
   "source": [
    "w = \"good \\r afternoon\"\n",
    "print(w)"
   ]
  },
  {
   "cell_type": "code",
   "execution_count": 41,
   "id": "3e2a7bed-f310-4d49-91cc-c241d9df16ca",
   "metadata": {},
   "outputs": [
    {
     "name": "stdout",
     "output_type": "stream",
     "text": [
      "good afternoon\n"
     ]
    }
   ],
   "source": [
    "w = \"good\" + ' ' + \"afternoon\"\n",
    "print(w)"
   ]
  },
  {
   "cell_type": "code",
   "execution_count": 45,
   "id": "18245c9a-d085-4e12-94d5-ef79cce7f561",
   "metadata": {},
   "outputs": [
    {
     "name": "stdout",
     "output_type": "stream",
     "text": [
      "xxxhello  worldxxx\n",
      "hello  world\n"
     ]
    }
   ],
   "source": [
    "s = \"xxxhello  worldxxx\"\n",
    "print(s)\n",
    "d = s.strip('x')\n",
    "print(d)"
   ]
  },
  {
   "cell_type": "code",
   "execution_count": 5,
   "id": "9e784247-302c-4f14-b3a8-e0adb7cc17fc",
   "metadata": {},
   "outputs": [
    {
     "name": "stdout",
     "output_type": "stream",
     "text": [
      "     57.47\n",
      "     57.40\n"
     ]
    }
   ],
   "source": [
    "\n",
    "print(format(57.467657, \"10.2f\"))\n",
    "\n",
    "print(format(57.4, \"10.2f\"))"
   ]
  },
  {
   "cell_type": "code",
   "execution_count": 3,
   "id": "38c0cd00-b5e7-4174-95d1-ee54b6a9bb75",
   "metadata": {},
   "outputs": [
    {
     "name": "stdout",
     "output_type": "stream",
     "text": [
      "12345678.92\n"
     ]
    }
   ],
   "source": [
    "print(format(12345678.923, \"10.2f\"))"
   ]
  },
  {
   "cell_type": "code",
   "execution_count": 6,
   "id": "7c182e46-bccb-42ff-8ceb-46c8d963e766",
   "metadata": {},
   "outputs": [
    {
     "name": "stdout",
     "output_type": "stream",
     "text": [
      "57.40\n"
     ]
    }
   ],
   "source": [
    "print(format(57.4, \".2f\"))"
   ]
  },
  {
   "cell_type": "code",
   "execution_count": 7,
   "id": "8e9fbf95-c06f-4d14-afc5-070113ac3c28",
   "metadata": {},
   "outputs": [
    {
     "name": "stdout",
     "output_type": "stream",
     "text": [
      "     57.40\n"
     ]
    }
   ],
   "source": [
    "print(format(57.4, \"10.2f\"))"
   ]
  },
  {
   "cell_type": "code",
   "execution_count": 12,
   "id": "b718314f-d370-42d6-91b9-34d9a9fd2d79",
   "metadata": {},
   "outputs": [
    {
     "name": "stdin",
     "output_type": "stream",
     "text": [
      "Enter the length from the center to the vertex: 5.5\n"
     ]
    },
    {
     "name": "stdout",
     "output_type": "stream",
     "text": [
      "the area of a pentagon is: 108.61\n"
     ]
    }
   ],
   "source": [
    "import math\n",
    "r = eval(input(\"Enter the length from the center to the vertex:\"))\n",
    "s = 2 * r * math.sin(math.pi/5)\n",
    "\n",
    "area =( 3 * math.sqrt(3)/2)* s**2\n",
    "print(\"the area of a pentagon is:\",format(area, \".2f\"))"
   ]
  },
  {
   "cell_type": "code",
   "execution_count": 14,
   "id": "fbc98c0c-2262-4970-9951-e96515258a88",
   "metadata": {},
   "outputs": [
    {
     "name": "stdin",
     "output_type": "stream",
     "text": [
      "enter the length: 5.5\n"
     ]
    },
    {
     "name": "stdout",
     "output_type": "stream",
     "text": [
      "the area of a pentagon is: 52.044441367816255\n"
     ]
    }
   ],
   "source": [
    "import math\n",
    "s = eval(input(\"enter the length:\"))\n",
    "area = (5 * s**2)/(4*math.tan(math.pi/5))\n",
    "print(\"the area of a pentagon is:\",area)"
   ]
  },
  {
   "cell_type": "code",
   "execution_count": 16,
   "id": "859c7eb5-9dc1-4c3f-a0e4-2fde4736051f",
   "metadata": {},
   "outputs": [
    {
     "name": "stdin",
     "output_type": "stream",
     "text": [
      "enter the length: 6.5\n",
      "enter the sides: 5\n"
     ]
    },
    {
     "name": "stdout",
     "output_type": "stream",
     "text": [
      "the area of the polygon is: 72.69017017488386\n"
     ]
    }
   ],
   "source": [
    "import math\n",
    "s = eval(input(\"enter the length:\"))\n",
    "n = eval(input(\"enter the sides:\"))\n",
    "area =(n * s**2)/(4* math.tan(math.pi/n))\n",
    "print(\"the area of the polygon is:\",area)\n"
   ]
  },
  {
   "cell_type": "code",
   "execution_count": 18,
   "id": "1aa4a539-6a6d-4f13-b634-8d3fb03cea37",
   "metadata": {},
   "outputs": [
    {
     "name": "stdin",
     "output_type": "stream",
     "text": [
      "enter the ASCII code: 69\n"
     ]
    },
    {
     "name": "stdout",
     "output_type": "stream",
     "text": [
      "the character is: E\n"
     ]
    }
   ],
   "source": [
    "q = eval(input(\"enter the ASCII code:\"))\n",
    "w = chr(q)\n",
    "print(\"the character is:\",w)\n"
   ]
  },
  {
   "cell_type": "code",
   "execution_count": 22,
   "id": "92012b44-0ef0-4727-a820-074bf1a44874",
   "metadata": {},
   "outputs": [
    {
     "name": "stdin",
     "output_type": "stream",
     "text": [
      "enter character: a\n"
     ]
    },
    {
     "name": "stdout",
     "output_type": "stream",
     "text": [
      "the character is: 97\n"
     ]
    }
   ],
   "source": [
    "q = input(\"enter character:\")\n",
    "w = ord(q)\n",
    "print(\"the character is:\",w)"
   ]
  },
  {
   "cell_type": "code",
   "execution_count": 23,
   "id": "ff08d398-8f22-45c8-9978-9ccd34d32c4b",
   "metadata": {},
   "outputs": [
    {
     "name": "stdout",
     "output_type": "stream",
     "text": [
      "Random uppercase letter: J\n"
     ]
    }
   ],
   "source": [
    "import random\n",
    "import time\n",
    "\n",
    "# Get the current time in seconds since the epoch\n",
    "seed = int(time.time())\n",
    "\n",
    "# Set the seed for the random number generator\n",
    "random.seed(seed)\n",
    "\n",
    "# Generate a random uppercase letter\n",
    "letter = chr(random.randint(65, 90))  # 65-90 are the ASCII codes for A-Z\n",
    "\n",
    "print(\"Random uppercase letter:\", letter)"
   ]
  },
  {
   "cell_type": "code",
   "execution_count": 10,
   "id": "b2989f8e-553a-4405-b0c4-c25a134720b4",
   "metadata": {},
   "outputs": [
    {
     "ename": "SyntaxError",
     "evalue": "invalid syntax (597159767.py, line 2)",
     "output_type": "error",
     "traceback": [
      "\u001b[1;36m  Cell \u001b[1;32mIn[10], line 2\u001b[1;36m\u001b[0m\n\u001b[1;33m    name = input(\"enter the employeeName:\"$)\u001b[0m\n\u001b[1;37m                                          ^\u001b[0m\n\u001b[1;31mSyntaxError\u001b[0m\u001b[1;31m:\u001b[0m invalid syntax\n"
     ]
    }
   ],
   "source": [
    "#payroll statement\n",
    "name = input(\"enter the employeeName:\")\n",
    "hoursWorked = eval(input(\"enter number of hours worked in a week:\"))\n",
    "hourlyPay = eval(input(\"enter the hourly pay rate:\"))\n",
    "federalTaxRate = eval(input(\"enter federal tax withholding rate:\"))\n",
    "stateTaxRate = eval(input(\"enter the state withholding rate:\"))\n",
    "grossPay = hoursWorked * hourlyPay\n",
    "federalTaxWithholding = grossPay*federalTaxRate\n",
    "stateTaxWithholding = grossPay*stateTaxRate\n",
    "Deductions = federalTaxWithholding+stateTaxWithholding\n",
    "netPay = grossPay-Deductions\n",
    "print(\"\\n----------------------------------\")\n",
    "print(\"EmployeeName:\",name)\n",
    "print(\"HoursWorked:\",hoursWorked)\n",
    "print(\"payRate:\",hourlyPay)\n",
    "print(\"grossPay:\",grossPay)\n",
    "\n",
    "print(\"Net Pay:\",netPay)\n"
   ]
  },
  {
   "cell_type": "code",
   "execution_count": 22,
   "id": "67549150-8cd6-47cf-8c09-bbb658ddb6ac",
   "metadata": {},
   "outputs": [
    {
     "name": "stdin",
     "output_type": "stream",
     "text": [
      "Enter employee's name:  smith\n",
      "Enter number of hours worked in a week:  10\n",
      "Enter hourly pay rate:  9.75\n",
      "Enter federal tax withholding rate (in %):  0.20\n",
      "Enter state tax withholding rate (in %):  0.09\n"
     ]
    },
    {
     "name": "stdout",
     "output_type": "stream",
     "text": [
      "\n",
      "Payroll Statement:\n",
      "------------------\n",
      "Employee Name: smith\n",
      "Hours Worked: 10.00 hours\n",
      "Hourly Pay Rate: $9.75\n",
      "Gross Pay: $97.5\n",
      "Deductions:\n",
      "     Federal Tax Withholding(20.0%): $19.5 \n",
      "     State Tax Withholding(9.0%): $8.78 \n",
      "Net Pay: $69.22\n"
     ]
    }
   ],
   "source": [
    "# Payroll Program\n",
    "\n",
    "# Read employee information\n",
    "name = input(\"Enter employee's name: \")\n",
    "hours_worked = float(input(\"Enter number of hours worked in a week: \"))\n",
    "hourly_pay_rate = float(input(\"Enter hourly pay rate: \"))\n",
    "federal_tax_rate = float(input(\"Enter federal tax withholding rate (in %): \")) \n",
    "state_tax_rate = float(input(\"Enter state tax withholding rate (in %): \"))\n",
    "\n",
    "# Calculate gross pay\n",
    "gross_pay = hours_worked * hourly_pay_rate\n",
    "\n",
    "# Calculate federal tax withholding\n",
    "federal_tax_withholding = gross_pay * federal_tax_rate\n",
    "\n",
    "# Calculate state tax withholding\n",
    "state_tax_withholding = gross_pay * state_tax_rate\n",
    "\n",
    "# Calculate net pay\n",
    "net_pay = gross_pay - federal_tax_withholding - state_tax_withholding\n",
    "\n",
    "# Print payroll statement\n",
    "print(\"\\nPayroll Statement:\")\n",
    "print(\"------------------\")\n",
    "print(f\"Employee Name: {name}\")\n",
    "print(f\"Hours Worked: {hours_worked:.2f} hours\")\n",
    "print(f\"Hourly Pay Rate: ${hourly_pay_rate:.2f}\")\n",
    "print(f\"Gross Pay: ${gross_pay:.1f}\")\n",
    "print(f\"Deductions:\")\n",
    "print('     'f\"Federal Tax Withholding({federal_tax_rate*100}%): ${federal_tax_withholding:.1f} \")\n",
    "print('     'f\"State Tax Withholding({state_tax_rate*100}%): ${state_tax_withholding:.2f} \")\n",
    "print(f\"Net Pay: ${net_pay:.2f}\")"
   ]
  },
  {
   "cell_type": "code",
   "execution_count": 30,
   "id": "6730c441-20fe-493b-91ee-1e1209fd4d0c",
   "metadata": {},
   "outputs": [
    {
     "name": "stdout",
     "output_type": "stream",
     "text": [
      "drow\n"
     ]
    }
   ],
   "source": [
    "#Reversing of numbers\n",
    "n = \"word\"\n",
    "w = n[::-1]\n",
    "print( w)\n"
   ]
  },
  {
   "cell_type": "code",
   "execution_count": 3,
   "id": "03bdb24b-4b8a-4af9-9b39-c9b1e240ec30",
   "metadata": {},
   "outputs": [
    {
     "data": {
      "text/plain": [
       "True"
      ]
     },
     "execution_count": 3,
     "metadata": {},
     "output_type": "execute_result"
    }
   ],
   "source": [
    "i = int(True)\n",
    "i\n",
    "b1 = bool(4)\n",
    "b1"
   ]
  },
  {
   "cell_type": "code",
   "execution_count": 1,
   "id": "5395459c-835d-4421-a729-0d5171d48676",
   "metadata": {},
   "outputs": [
    {
     "name": "stdin",
     "output_type": "stream",
     "text": [
      "What is 13 + 9? 22\n"
     ]
    },
    {
     "name": "stdout",
     "output_type": "stream",
     "text": [
      "13 + 9 = 22 is True\n"
     ]
    }
   ],
   "source": [
    "#RANDOM NUMBERS\n",
    "import random\n",
    "n1 = random.randint(10,19)\n",
    "n2 = random.randint(0,9)\n",
    "answer = eval(input(\"What is \" + str(n1) + \" + \" + str(n2) + \"?\"))\n",
    "print(n1, \"+\",n2, \"=\", answer, \"is\",n1 + n2 == answer)"
   ]
  },
  {
   "cell_type": "code",
   "execution_count": 12,
   "id": "060674fa-567b-4184-8843-888f191fa169",
   "metadata": {},
   "outputs": [
    {
     "name": "stdin",
     "output_type": "stream",
     "text": [
      "enter the radius: 2.55\n"
     ]
    },
    {
     "name": "stdout",
     "output_type": "stream",
     "text": [
      "the area of a circle is: 20.428\n"
     ]
    }
   ],
   "source": [
    "import math\n",
    "radius = eval(input(\"enter the radius:\"))\n",
    "if radius <= 0:\n",
    "  print(\"incorrect\")\n",
    "else:\n",
    "   area = math.pi * radius *radius\n",
    "   print(\"the area of a circle is:\",format(area,\".3f\"))"
   ]
  },
  {
   "cell_type": "code",
   "execution_count": 4,
   "id": "3244c040-d08d-4cfb-bb47-2d77706e8876",
   "metadata": {},
   "outputs": [
    {
     "name": "stdin",
     "output_type": "stream",
     "text": [
      "what is 93-95? -2\n"
     ]
    },
    {
     "name": "stdout",
     "output_type": "stream",
     "text": [
      "93 - 95 = -2 is True\n"
     ]
    }
   ],
   "source": [
    "import random\n",
    "i = random.randint(89,100)\n",
    "j = random.randint(89,100)\n",
    "answer = eval(input(\"what is \" + str(i) + \"-\" + str(j) + \"?\"))\n",
    "print(i, \"-\",j, \"=\", answer, \"is\",i - j == answer)\n"
   ]
  },
  {
   "cell_type": "code",
   "execution_count": 6,
   "id": "b1897fc5-f0fe-436f-a2b7-98a366508c23",
   "metadata": {},
   "outputs": [
    {
     "name": "stdin",
     "output_type": "stream",
     "text": [
      "what is 183*389? 71187\n"
     ]
    },
    {
     "name": "stdout",
     "output_type": "stream",
     "text": [
      "183 * 389 = 71187 is True\n"
     ]
    }
   ],
   "source": [
    "import random\n",
    "k = random.randint(89,500)\n",
    "l = random.randint(89,500)\n",
    "answer = eval(input(\"what is \" + str(k) + \"*\" + str(l) + \"?\"))\n",
    "print(k, \"*\",l, \"=\", answer, \"is\",k * l == answer)\n"
   ]
  },
  {
   "cell_type": "code",
   "execution_count": 12,
   "id": "5c334796-faec-4613-8d3f-6f2197eb7a22",
   "metadata": {},
   "outputs": [
    {
     "name": "stdin",
     "output_type": "stream",
     "text": [
      "enter i: -2\n"
     ]
    }
   ],
   "source": [
    "#One way if statements\n",
    "import math\n",
    "i = eval(input(\"enter i:\"))\n",
    "if i >= 0:\n",
    "   area = i * i * math.pi\n",
    "   print(\"the area is:\",format(area,\".2f\"))"
   ]
  },
  {
   "cell_type": "code",
   "execution_count": 13,
   "id": "f2a5bbfa-d56e-49d8-b64f-0849cfca391e",
   "metadata": {},
   "outputs": [
    {
     "name": "stdin",
     "output_type": "stream",
     "text": [
      "enter i: 4\n"
     ]
    },
    {
     "name": "stdout",
     "output_type": "stream",
     "text": [
      "the area is: 50.27\n"
     ]
    }
   ],
   "source": [
    "import math\n",
    "i = eval(input(\"enter i:\"))\n",
    "if i >= 0:\n",
    "   area = i * i * math.pi\n",
    "   print(\"the area is:\",format(area,\".2f\"))"
   ]
  },
  {
   "cell_type": "code",
   "execution_count": 15,
   "id": "13eee06b-21e7-4c9c-ab81-bfc1b53d7478",
   "metadata": {},
   "outputs": [
    {
     "name": "stdin",
     "output_type": "stream",
     "text": [
      "enter the value of y: 5\n"
     ]
    },
    {
     "name": "stdout",
     "output_type": "stream",
     "text": [
      "x = 1\n"
     ]
    }
   ],
   "source": [
    "y = eval(input(\"enter the value of y:\"))\n",
    "if y > 0:\n",
    "    print(\"x = 1\")     "
   ]
  },
  {
   "cell_type": "code",
   "execution_count": 16,
   "id": "19d0ba8c-dddc-47c6-a13f-df459701d061",
   "metadata": {},
   "outputs": [
    {
     "name": "stdin",
     "output_type": "stream",
     "text": [
      "enter the value of y: 0\n"
     ]
    }
   ],
   "source": [
    "y = eval(input(\"enter the value of y:\"))\n",
    "if y > 0:\n",
    "    print(\"x = 1\")     "
   ]
  },
  {
   "cell_type": "code",
   "execution_count": 21,
   "id": "a4f99ca0-1b72-4533-9ace-bc2c1ded91b9",
   "metadata": {},
   "outputs": [
    {
     "name": "stdin",
     "output_type": "stream",
     "text": [
      "enter the score: 97\n"
     ]
    },
    {
     "name": "stdout",
     "output_type": "stream",
     "text": [
      "the pay is: 33333.333333333336\n"
     ]
    }
   ],
   "source": [
    "pay = 1000\n",
    "score = eval(input(\"enter the score:\"))\n",
    "if(score > 90):\n",
    "      print(\"the pay is:\" ,pay/0.03)"
   ]
  },
  {
   "cell_type": "code",
   "execution_count": 24,
   "id": "ca8618b2-5035-402c-a362-da1470fb57ce",
   "metadata": {},
   "outputs": [
    {
     "name": "stdin",
     "output_type": "stream",
     "text": [
      "enter the value of number: 90\n"
     ]
    },
    {
     "name": "stdout",
     "output_type": "stream",
     "text": [
      "hifive\n",
      "hieven\n"
     ]
    }
   ],
   "source": [
    "number = eval(input(\"enter the value of number:\"))\n",
    "if number % 5 ==0:\n",
    "    print(\"hifive\")\n",
    "if number % 2 ==0:\n",
    "    print(\"hieven\")"
   ]
  },
  {
   "cell_type": "code",
   "execution_count": 26,
   "id": "9b785721-b22a-4024-a3aa-870ec4f5d955",
   "metadata": {},
   "outputs": [
    {
     "name": "stdin",
     "output_type": "stream",
     "text": [
      "Enter the radius: -5\n"
     ]
    },
    {
     "name": "stdout",
     "output_type": "stream",
     "text": [
      "Negative input\n"
     ]
    }
   ],
   "source": [
    "#two way if else statements\n",
    "radius = eval(input(\"Enter the radius:\"))\n",
    "if radius >= 0:\n",
    "    area = radius * radius * math.pi\n",
    "    print(\"The area for the circle of radius\", radius, \"is\", area)\n",
    "else:\n",
    "   print(\"Negative input\")\n"
   ]
  },
  {
   "cell_type": "code",
   "execution_count": 27,
   "id": "30ea5669-a6c9-4b41-93a7-48464f2d7561",
   "metadata": {},
   "outputs": [
    {
     "name": "stdin",
     "output_type": "stream",
     "text": [
      "Enter the number: 4\n"
     ]
    },
    {
     "name": "stdout",
     "output_type": "stream",
     "text": [
      "4 is even\n"
     ]
    }
   ],
   "source": [
    "number =  eval(input(\"Enter the number:\"))\n",
    "if number % 2 == 0:\n",
    "    print(number, \"is even\")\n",
    "else:\n",
    "    print(number, \"is odd\")\n",
    "   "
   ]
  },
  {
   "cell_type": "code",
   "execution_count": 28,
   "id": "fef65d98-f21a-4496-9c46-500ecbb47753",
   "metadata": {},
   "outputs": [
    {
     "name": "stdin",
     "output_type": "stream",
     "text": [
      "Enter the number: 3\n"
     ]
    },
    {
     "name": "stdout",
     "output_type": "stream",
     "text": [
      "3 is odd\n"
     ]
    }
   ],
   "source": [
    "number =  eval(input(\"Enter the number:\"))\n",
    "if number % 2 == 0:\n",
    "    print(number, \"is even\")\n",
    "else:\n",
    "    print(number, \"is odd\")"
   ]
  },
  {
   "cell_type": "code",
   "execution_count": 30,
   "id": "d56e8b99-8528-4b2a-970d-7dcb209b21da",
   "metadata": {},
   "outputs": [
    {
     "name": "stdout",
     "output_type": "stream",
     "text": [
      "the answer is wrong \n",
      " 4 - 4 is 0 .\n"
     ]
    }
   ],
   "source": [
    "import random\n",
    "n1 = random.randint(0,9)\n",
    "n2 = random.randint(0,9)\n",
    "if n1 < n2:\n",
    "    n1,n2 = n2,n1\n",
    "    answer = eval(input(\"What is \" + str(n1) + \" - \" + str(n2) + \"?\"))\n",
    "if n1 - n2 == answer:\n",
    "    print(\"the answer is correct\")\n",
    "else:\n",
    "    print(\"the answer is wrong \\n\",n1,'-' ,n2, \"is\", n1-n2,'.')\n",
    "     \n"
   ]
  },
  {
   "cell_type": "code",
   "execution_count": 34,
   "id": "e22e9fc6-6db9-464d-8a7c-8fbf13eb2ede",
   "metadata": {},
   "outputs": [
    {
     "name": "stdin",
     "output_type": "stream",
     "text": [
      "What is 5 - 1?  5\n"
     ]
    },
    {
     "name": "stdout",
     "output_type": "stream",
     "text": [
      "Your answer is wrong.\n",
      " 5 - 1 is 4 .\n"
     ]
    }
   ],
   "source": [
    "import random\n",
    "\n",
    " # 1. Generate two random single-digit integers\n",
    "number1 = random.randint(0, 9)\n",
    "number2 = random.randint(0, 9)\n",
    "\n",
    "   # 2. If number1 < number2, swap number1 with number2\n",
    "if number1 < number2:\n",
    "     number1, number2 = number2, number1 # Simultaneous assignment\n",
    "\n",
    " # 3. Prompt the student to answer \"What is number1 - number2?\"\n",
    " \n",
    "answer = eval(input(\"What is \"+ str(number1) + \" - \" + str(number2) + \"? \"))\n",
    "\n",
    "# 4. Check the answer and display the result\n",
    "if number1 - number2 == answer:\n",
    "      print(\"You are correct!\")\n",
    "else:\n",
    "      print(\"Your answer is wrong.\\n\", number1, '-',number2, \"is\", number1 - number2, '.')"
   ]
  },
  {
   "cell_type": "code",
   "execution_count": null,
   "id": "44a161b8-6b85-4833-8d53-dc0d4855d9e0",
   "metadata": {},
   "outputs": [],
   "source": []
  }
 ],
 "metadata": {
  "kernelspec": {
   "display_name": "Python 3 (ipykernel)",
   "language": "python",
   "name": "python3"
  },
  "language_info": {
   "codemirror_mode": {
    "name": "ipython",
    "version": 3
   },
   "file_extension": ".py",
   "mimetype": "text/x-python",
   "name": "python",
   "nbconvert_exporter": "python",
   "pygments_lexer": "ipython3",
   "version": "3.12.4"
  }
 },
 "nbformat": 4,
 "nbformat_minor": 5
}
