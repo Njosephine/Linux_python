{
 "cells": [
  {
   "cell_type": "code",
   "execution_count": 20,
   "id": "f5b4aa45-1180-40d5-83eb-d68010e10e14",
   "metadata": {},
   "outputs": [
    {
     "name": "stdout",
     "output_type": "stream",
     "text": [
      "python is fun Welcome to Computer Science\n",
      "Programming is fun\n",
      "python is fun python is fun python is fun python is fun python is fun \n"
     ]
    }
   ],
   "source": [
    "#PRINTING IN PYTHON\n",
    "print (\"python is fun\" ,end =' ')\n",
    "print (\"Welcome to Computer Science\")\n",
    "print (\"Programming is fun\")\n",
    "print (\"python is fun\" \" \" *5)"
   ]
  },
  {
   "cell_type": "code",
   "execution_count": 9,
   "id": "d3ed8d66-7fab-4568-89af-e329db289661",
   "metadata": {},
   "outputs": [
    {
     "name": "stdout",
     "output_type": "stream",
     "text": [
      "FFFFFFF  U       U   NN     NN\n",
      "FF       U       U   NNN    NN\n",
      "FFFFFF   U       U   NN N   NN\n",
      "FF        U     U    NN  N  NN\n",
      "FF          UUU      NN    NNN \n"
     ]
    }
   ],
   "source": [
    "#display the a pattern\n",
    "pattern = [\"FFFFFFF  U       U   NN     NN\",\n",
    "           \"FF       U       U   NNN    NN\",\n",
    "           \"FFFFFF   U       U   NN N   NN\",\n",
    "           \"FF        U     U    NN  N  NN\",\n",
    "           \"FF          UUU      NN    NNN \"       \n",
    "    \n",
    "]\n",
    "for x in pattern:\n",
    "   print(x)\n"
   ]
  },
  {
   "cell_type": "code",
   "execution_count": 14,
   "id": "33ae10a6-87a3-45c2-b337-ac387ed4e87b",
   "metadata": {},
   "outputs": [
    {
     "name": "stdout",
     "output_type": "stream",
     "text": [
      "a     a^2    a^3\n",
      "1      1      1\n",
      "2      4      8\n",
      "3      9      27\n",
      "4      16     64\n"
     ]
    }
   ],
   "source": [
    "table = [\"a     a^2    a^3\",\n",
    "         \"1      1      1\",\n",
    "         \"2      4      8\",\n",
    "         \"3      9      27\",\n",
    "         \"4      16     64\"\n",
    "    \n",
    "]\n",
    "for x in table:\n",
    "   print(x) "
   ]
  },
  {
   "cell_type": "code",
   "execution_count": 15,
   "id": "2bf22517-76ee-488b-9cb5-171ddee71eeb",
   "metadata": {},
   "outputs": [
    {
     "name": "stdout",
     "output_type": "stream",
     "text": [
      "the result is: 0.7833333333333333\n"
     ]
    }
   ],
   "source": [
    "#compution of an exprssion\n",
    "expression = ((9.5*4.5)-(2.5*3))/(45.5-.5)\n",
    "print(\"the result is:\",expression)"
   ]
  },
  {
   "cell_type": "code",
   "execution_count": 16,
   "id": "2d36fb42-ca35-40d4-bd34-7ca20e37658a",
   "metadata": {},
   "outputs": [
    {
     "data": {
      "text/plain": [
       "45"
      ]
     },
     "execution_count": 16,
     "metadata": {},
     "output_type": "execute_result"
    }
   ],
   "source": [
    "#summation of the following series\n",
    "sum = 1+2+3+4+5+6+7+8+9\n",
    "sum\n"
   ]
  },
  {
   "cell_type": "code",
   "execution_count": 19,
   "id": "5d459ab2-0e87-4766-9e5f-71f2d0287c53",
   "metadata": {},
   "outputs": [
    {
     "data": {
      "text/plain": [
       "3.017071817071818"
      ]
     },
     "execution_count": 19,
     "metadata": {},
     "output_type": "execute_result"
    }
   ],
   "source": [
    "pi = 4 * (1-1/3+1/5-1/7+1/9-1/11)\n",
    "pi\n",
    "pi = 4 * (1-1/3+1/5-1/7+1/9-1/11+1/13-1/15)\n",
    "pi"
   ]
  },
  {
   "cell_type": "code",
   "execution_count": 24,
   "id": "9938330b-6a85-44c2-bd83-973b1ea3d044",
   "metadata": {},
   "outputs": [
    {
     "data": {
      "text/plain": [
       "95.0330975"
      ]
     },
     "execution_count": 24,
     "metadata": {},
     "output_type": "execute_result"
    }
   ],
   "source": [
    "#computation of the perimeter and area of the circle whose radius is 5.5\n",
    "radius = 5.5\n",
    "pi = 3.14159\n",
    "area = radius * radius * pi\n",
    "area\n",
    "\n",
    "\n"
   ]
  },
  {
   "cell_type": "code",
   "execution_count": 25,
   "id": "a9590856-3eb8-4270-9815-bffcd6cc2c74",
   "metadata": {},
   "outputs": [
    {
     "data": {
      "text/plain": [
       "34.55749"
      ]
     },
     "execution_count": 25,
     "metadata": {},
     "output_type": "execute_result"
    }
   ],
   "source": [
    "perimeter = 2 * radius * pi\n",
    "perimeter"
   ]
  },
  {
   "cell_type": "code",
   "execution_count": 42,
   "id": "a7225604-120c-4ebd-bd65-a046df6b447e",
   "metadata": {},
   "outputs": [
    {
     "name": "stdin",
     "output_type": "stream",
     "text": [
      "Enter the radius of the circle: 2.5\n"
     ]
    },
    {
     "name": "stdout",
     "output_type": "stream",
     "text": [
      "the area of a circle is: 20\n"
     ]
    }
   ],
   "source": [
    "#Reading input from the console\n",
    "#prompting the user to enter the radius\n",
    "# input :: Allowas the reading of the input as a string\n",
    "# eval :: Allows converting of a string to a number\n",
    "radius = eval(input(\"Enter the radius of the circle:\"))\n",
    "area =( pi * radius * radius)\n",
    "print (\"the area of a circle is:\",round(area))"
   ]
  },
  {
   "cell_type": "markdown",
   "id": "df2e59f6-f571-4888-a4ec-4bee6c4a6eaf",
   "metadata": {},
   "source": [
    "\n",
    "                "
   ]
  },
  {
   "cell_type": "code",
   "execution_count": 34,
   "id": "eaf0e6b6-3a59-48c2-b106-b122996a6df7",
   "metadata": {},
   "outputs": [
    {
     "name": "stdin",
     "output_type": "stream",
     "text": [
      "enter number1: 2\n",
      "enter number2: 3\n",
      "enter number3: 4\n"
     ]
    },
    {
     "name": "stdout",
     "output_type": "stream",
     "text": [
      "the average of three numbers is: 3.0\n"
     ]
    }
   ],
   "source": [
    "#A program that prompts the user to enter three values and then computes their average\n",
    "number1 = eval(input(\"enter number1:\"))\n",
    "number2 = eval(input(\"enter number2:\"))\n",
    "number3 = eval(input(\"enter number3:\"))\n",
    "average = (number1 + number2 + number3)/3\n",
    "print (\"the average of three numbers is:\",average)"
   ]
  },
  {
   "cell_type": "code",
   "execution_count": 1,
   "id": "539edd42-ec75-4ab4-89e0-7e307855bf6e",
   "metadata": {},
   "outputs": [
    {
     "name": "stdin",
     "output_type": "stream",
     "text": [
      "Enter the three numbers: 1,2,3\n"
     ]
    },
    {
     "name": "stdout",
     "output_type": "stream",
     "text": [
      "the average of three numbers is: 2.0\n"
     ]
    }
   ],
   "source": [
    "#Simultaneous assignment\n",
    "number1,number2,number3 = eval(input(\"Enter the three numbers:\"))\n",
    "average = (number1 + number2 + number3)/3\n",
    "print (\"the average of three numbers is:\",average)\n"
   ]
  },
  {
   "cell_type": "code",
   "execution_count": 23,
   "id": "7ec78502-49b0-4cbd-8460-04a165ade118",
   "metadata": {},
   "outputs": [
    {
     "name": "stdin",
     "output_type": "stream",
     "text": [
      "Enter the raduis of the cylider: 2\n",
      "Enter the length of the cylider: 3\n"
     ]
    },
    {
     "name": "stdout",
     "output_type": "stream",
     "text": [
      "the area of the cylider is: 12.56 and the volume of the cylider is: 37.68\n"
     ]
    }
   ],
   "source": [
    "#COMPUTATION\n",
    "radius = eval(input(\"Enter the raduis of the cylider:\"))\n",
    "length = eval(inpu2\n",
    "              t(\"Enter the length of the cylider:\"))\n",
    "pi = 3.14\n",
    "area = radius * radius *pi\n",
    "volume = area *length\n",
    "print(\"the area of the cylider is:\",area ,end = ' ')\n",
    "print(\"and the volume of the cylider is:\",volume)"
   ]
  },
  {
   "cell_type": "code",
   "execution_count": 5,
   "id": "fc8be6f3-3c93-4a87-9e27-257f61151167",
   "metadata": {},
   "outputs": [
    {
     "name": "stdin",
     "output_type": "stream",
     "text": [
      "enter the pound: 55.5\n"
     ]
    },
    {
     "name": "stdout",
     "output_type": "stream",
     "text": [
      "55.5 pounds is: 25.197\n"
     ]
    }
   ],
   "source": [
    "pound = eval(input(\"enter the pound:\"))\n",
    "t = 0.454\n",
    "kilo = t * pound\n",
    "print (\"55.5 pounds is:\",kilo)\n"
   ]
  },
  {
   "cell_type": "code",
   "execution_count": 9,
   "id": "3d54fe3e-491b-4edf-9d01-761b68f8823d",
   "metadata": {},
   "outputs": [
    {
     "name": "stdin",
     "output_type": "stream",
     "text": [
      "Enter the finalAccontValue: 1000\n",
      "Enter the AnnualInterestRate: 4.25\n",
      "Enter the numberOfYears: 5\n"
     ]
    },
    {
     "ename": "NameError",
     "evalue": "name 'finalAccountValue' is not defined",
     "output_type": "error",
     "traceback": [
      "\u001b[1;31m---------------------------------------------------------------------------\u001b[0m",
      "\u001b[1;31mNameError\u001b[0m                                 Traceback (most recent call last)",
      "Cell \u001b[1;32mIn[9], line 6\u001b[0m\n\u001b[0;32m      4\u001b[0m monthlyInterestRate \u001b[38;5;241m=\u001b[39m annualInterest\u001b[38;5;241m/\u001b[39m\u001b[38;5;241m12\u001b[39m\n\u001b[0;32m      5\u001b[0m numberOfMonths \u001b[38;5;241m=\u001b[39m \u001b[38;5;241m12\u001b[39m\u001b[38;5;241m/\u001b[39mnumberOfYears\n\u001b[1;32m----> 6\u001b[0m initialDepositAmount \u001b[38;5;241m=\u001b[39m (\u001b[43mfinalAccountValue\u001b[49m)\u001b[38;5;241m/\u001b[39m(\u001b[38;5;241m1\u001b[39m\u001b[38;5;241m+\u001b[39mmonthlyInterestRate)\u001b[38;5;241m*\u001b[39m\u001b[38;5;241m*\u001b[39mnumberOfMonths\n\u001b[0;32m      7\u001b[0m \u001b[38;5;28mprint\u001b[39m(\u001b[38;5;124m\"\u001b[39m\u001b[38;5;124mthe intialDepositAmount is:\u001b[39m\u001b[38;5;124m\"\u001b[39m,intialDepositAmount)\n",
      "\u001b[1;31mNameError\u001b[0m: name 'finalAccountValue' is not defined"
     ]
    }
   ],
   "source": [
    "finalAccontValue = eval(input(\"Enter the finalAccontValue:\"))\n",
    "annualInterest = eval(input(\"Enter the AnnualInterestRate:\"))\n",
    "numberOfYears = eval(input(\"Enter the numberOfYears:\"))\n",
    "monthlyInterestRate = annualInterest/12\n",
    "numberOfMonths = 12/numberOfYears\n",
    "initialDepositAmount = (finalAccountValue)/(1+monthlyInterestRate)**numberOfMonths\n",
    "print(\"the intialDepositAmount is:\",intialDepositAmount)\n",
    "\n",
    "                    "
   ]
  },
  {
   "cell_type": "code",
   "execution_count": 14,
   "id": "f0a67e64-21e8-447c-a67c-98769a4efdac",
   "metadata": {},
   "outputs": [
    {
     "data": {
      "text/plain": [
       "2"
      ]
     },
     "execution_count": 14,
     "metadata": {},
     "output_type": "execute_result"
    }
   ],
   "source": [
    "#python fuctions\n",
    "#abs rsults the absolute value\n",
    "abs(-2)\n",
    "\n"
   ]
  },
  {
   "cell_type": "code",
   "execution_count": 13,
   "id": "6eaa37ef-df98-4c0d-a598-9eecbf335ec5",
   "metadata": {},
   "outputs": [
    {
     "data": {
      "text/plain": [
       "1000"
      ]
     },
     "execution_count": 13,
     "metadata": {},
     "output_type": "execute_result"
    }
   ],
   "source": [
    "#returns the largest value\n",
    "max(-10,1000,12)"
   ]
  },
  {
   "cell_type": "code",
   "execution_count": 15,
   "id": "131db76e-1ead-4944-8cec-a5a46013c48b",
   "metadata": {},
   "outputs": [
    {
     "data": {
      "text/plain": [
       "-10"
      ]
     },
     "execution_count": 15,
     "metadata": {},
     "output_type": "execute_result"
    }
   ],
   "source": [
    "returns the smallest value\n",
    "min(-10,1000,12)"
   ]
  },
  {
   "cell_type": "code",
   "execution_count": 16,
   "id": "0f82538d-5227-445b-84c4-c34d1509cdf5",
   "metadata": {},
   "outputs": [
    {
     "data": {
      "text/plain": [
       "8"
      ]
     },
     "execution_count": 16,
     "metadata": {},
     "output_type": "execute_result"
    }
   ],
   "source": [
    "#  pow same as a**b\n",
    "pow(2,3)"
   ]
  },
  {
   "cell_type": "code",
   "execution_count": 18,
   "id": "95ba4b1a-7a0a-4775-809a-dfcd1f0342b9",
   "metadata": {},
   "outputs": [
    {
     "data": {
      "text/plain": [
       "2"
      ]
     },
     "execution_count": 18,
     "metadata": {},
     "output_type": "execute_result"
    }
   ],
   "source": [
    "#round returns the nearest to the value\n",
    "round(2.1)"
   ]
  },
  {
   "cell_type": "code",
   "execution_count": 21,
   "id": "7fb37426-47e0-4603-8b8b-42d0591ea80c",
   "metadata": {},
   "outputs": [
    {
     "data": {
      "text/plain": [
       "2.0"
      ]
     },
     "execution_count": 21,
     "metadata": {},
     "output_type": "execute_result"
    }
   ],
   "source": [
    "#mathematicla functions\n",
    "\n",
    "math.sqrt(4)"
   ]
  },
  {
   "cell_type": "code",
   "execution_count": 20,
   "id": "d50cd5ca-1c7a-4c86-a586-414df6be29cd",
   "metadata": {},
   "outputs": [
    {
     "data": {
      "text/plain": [
       "-2.4492935982947064e-16"
      ]
     },
     "execution_count": 20,
     "metadata": {},
     "output_type": "execute_result"
    }
   ],
   "source": [
    "math.sin(2 * math.pi)"
   ]
  },
  {
   "cell_type": "code",
   "execution_count": 2,
   "id": "b252c8c6-1063-4e54-b1f9-dc3e99cc25fd",
   "metadata": {},
   "outputs": [
    {
     "data": {
      "text/plain": [
       "97"
      ]
     },
     "execution_count": 2,
     "metadata": {},
     "output_type": "execute_result"
    }
   ],
   "source": [
    "#characters\n",
    "#ASCII\n",
    "#FUNCTIONS USED ord,chr\n",
    "#x  = \"A\"\n",
    "#ord(x)\n",
    "y = \"a\"\n",
    "ord(y)\n"
   ]
  },
  {
   "cell_type": "code",
   "execution_count": 3,
   "id": "69142b10-e23d-404a-b290-bc0de33cddeb",
   "metadata": {},
   "outputs": [
    {
     "data": {
      "text/plain": [
       "'a'"
      ]
     },
     "execution_count": 3,
     "metadata": {},
     "output_type": "execute_result"
    }
   ],
   "source": [
    "# chr function\n",
    "x = 97\n",
    "chr(x)"
   ]
  },
  {
   "cell_type": "code",
   "execution_count": 4,
   "id": "24774ae2-b6ce-484c-a9fe-c5d4487b67b5",
   "metadata": {},
   "outputs": [
    {
     "data": {
      "text/plain": [
       "98"
      ]
     },
     "execution_count": 4,
     "metadata": {},
     "output_type": "execute_result"
    }
   ],
   "source": [
    "y = \"b\"\n",
    "ord(y)"
   ]
  },
  {
   "cell_type": "code",
   "execution_count": 5,
   "id": "e6c0589c-60b9-488d-a3ca-f9c2a726982b",
   "metadata": {},
   "outputs": [
    {
     "data": {
      "text/plain": [
       "99"
      ]
     },
     "execution_count": 5,
     "metadata": {},
     "output_type": "execute_result"
    }
   ],
   "source": [
    "c = \"c\"\n",
    "ord(c)"
   ]
  },
  {
   "cell_type": "code",
   "execution_count": 6,
   "id": "2dfd755c-2cde-4fc9-b13d-17a8211c4a19",
   "metadata": {},
   "outputs": [
    {
     "data": {
      "text/plain": [
       "65"
      ]
     },
     "execution_count": 6,
     "metadata": {},
     "output_type": "execute_result"
    }
   ],
   "source": [
    "x = \"A\"\n",
    "ord(x)"
   ]
  },
  {
   "cell_type": "code",
   "execution_count": 7,
   "id": "2b5b6537-fc4c-409a-818f-2e6e493ceeff",
   "metadata": {},
   "outputs": [
    {
     "data": {
      "text/plain": [
       "66"
      ]
     },
     "execution_count": 7,
     "metadata": {},
     "output_type": "execute_result"
    }
   ],
   "source": [
    "x = \"B\"\n",
    "ord(x)"
   ]
  },
  {
   "cell_type": "code",
   "execution_count": 8,
   "id": "ce0a8db7-cb45-48fa-a829-385e4411155b",
   "metadata": {},
   "outputs": [
    {
     "ename": "SyntaxError",
     "evalue": "invalid syntax. Perhaps you forgot a comma? (2873995009.py, line 2)",
     "output_type": "error",
     "traceback": [
      "\u001b[1;36m  Cell \u001b[1;32mIn[8], line 2\u001b[1;36m\u001b[0m\n\u001b[1;33m    print(\"he said,\"he is strong\"\")\u001b[0m\n\u001b[1;37m          ^\u001b[0m\n\u001b[1;31mSyntaxError\u001b[0m\u001b[1;31m:\u001b[0m invalid syntax. Perhaps you forgot a comma?\n"
     ]
    }
   ],
   "source": [
    "#escape sequences\n",
    "print(\"he said,\"he is strong\"\")"
   ]
  },
  {
   "cell_type": "code",
   "execution_count": 11,
   "id": "c253ecd5-bf1d-4da5-80e1-aafcf71979fd",
   "metadata": {},
   "outputs": [
    {
     "name": "stdout",
     "output_type": "stream",
     "text": [
      "he said,\"he is strong\"\n"
     ]
    }
   ],
   "source": [
    "#to solve this use the escape sequences and also if use want to allow your string of characters to be quoted\n",
    "print(\"he said,\\\"he is strong\\\"\")"
   ]
  },
  {
   "cell_type": "code",
   "execution_count": 15,
   "id": "accce31f-de6e-4754-aafa-9f31737fea61",
   "metadata": {},
   "outputs": [
    {
     "name": "stdout",
     "output_type": "stream",
     "text": [
      "he said,\"he is strong\"\n",
      "he said,\"he is \n",
      " strong\"\n"
     ]
    }
   ],
   "source": [
    "print(\"he said,\\\"he is strong\\\"\")\n",
    "print(\"he said,\\\"he is \\n strong\\\"\")"
   ]
  },
  {
   "cell_type": "code",
   "execution_count": 19,
   "id": "bbbe4a69-49e7-4438-977a-f624abde493e",
   "metadata": {},
   "outputs": [
    {
     "name": "stdout",
     "output_type": "stream",
     "text": [
      "he said,\"he is strong\" he said,\"he is strong\"\n"
     ]
    }
   ],
   "source": [
    "# if you dont want to break the two statements or to join the two statements\n",
    "print(\"he said,\\\"he is strong\\\"\", end = ' ')\n",
    "print(\"he said,\\\"he is strong\\\"\")"
   ]
  },
  {
   "cell_type": "code",
   "execution_count": 25,
   "id": "e73bdf10-fee2-4688-a771-61bac9beaa34",
   "metadata": {},
   "outputs": [
    {
     "name": "stdout",
     "output_type": "stream",
     "text": [
      "python is fun Welcome to Computer Science\n",
      "Programming is fun\n",
      "python is fun python is fun python is fun python is fun python is fun \n"
     ]
    },
    {
     "data": {
      "text/plain": [
       "'welcome to python'"
      ]
     },
     "execution_count": 25,
     "metadata": {},
     "output_type": "execute_result"
    }
   ],
   "source": [
    "print (\"python is fun\" ,end =' ')\n",
    "print (\"Welcome to Computer Science\")\n",
    "print (\"Programming is fun\")\n",
    "print (\"python is fun\" \" \" *5)\n",
    "message = 'welcome to python'\n",
    "message"
   ]
  },
  {
   "cell_type": "code",
   "execution_count": 27,
   "id": "725f3d9b-d83e-46c6-bbb3-cd056502fc21",
   "metadata": {},
   "outputs": [
    {
     "data": {
      "text/plain": [
       "'welcome to python and pythod is fun '"
      ]
     },
     "execution_count": 27,
     "metadata": {},
     "output_type": "execute_result"
    }
   ],
   "source": [
    "#String contenation operator(+)\n",
    "message = 'welcome to python'\n",
    "add = ' and python is fun '\n",
    "total = message + add\n",
    "total"
   ]
  },
  {
   "cell_type": "code",
   "execution_count": 28,
   "id": "eb33345f-ade5-453a-b824-656ee4b13290",
   "metadata": {},
   "outputs": [
    {
     "data": {
      "text/plain": [
       "'4'"
      ]
     },
     "execution_count": 28,
     "metadata": {},
     "output_type": "execute_result"
    }
   ],
   "source": [
    "# str function retuns a string integer\n",
    "x = 4\n",
    "str(x)"
   ]
  },
  {
   "cell_type": "code",
   "execution_count": 37,
   "id": "f917898f-856b-4965-8b1a-ddeb9d13e53b",
   "metadata": {},
   "outputs": [
    {
     "name": "stdin",
     "output_type": "stream",
     "text": [
      "Enter the string:  \"\"  hello\n",
      "Enter the string: world\n"
     ]
    },
    {
     "name": "stdout",
     "output_type": "stream",
     "text": [
      "the output is:hello\n",
      "the output is:world\n"
     ]
    },
    {
     "data": {
      "text/plain": [
       "'hello world'"
      ]
     },
     "execution_count": 37,
     "metadata": {},
     "output_type": "execute_result"
    }
   ],
   "source": [
    "#input function reads a string from the console\n",
    "y1 = input(\"Enter the string:\")\n",
    "y2 = input(\"Enter the string:\")\n",
    "print(\"the output is:\" +y1)\n",
    "print(\"the output is:\" +y2)\n",
    "add = y1 +' ' + y2 \n",
    "add"
   ]
  },
  {
   "cell_type": "code",
   "execution_count": 44,
   "id": "ea20f3c6-1074-4e48-b324-0c814aadb919",
   "metadata": {},
   "outputs": [
    {
     "data": {
      "text/plain": [
       "140732731548048"
      ]
     },
     "execution_count": 44,
     "metadata": {},
     "output_type": "execute_result"
    }
   ],
   "source": [
    "#OBJECTS AND METHODS\n",
    "x = True\n",
    "type(x)\n",
    "id(x)\n",
    "\n"
   ]
  },
  {
   "cell_type": "code",
   "execution_count": 43,
   "id": "230e1aaa-bf26-4872-ada0-e4bd7e38271e",
   "metadata": {},
   "outputs": [
    {
     "data": {
      "text/plain": [
       "str"
      ]
     },
     "execution_count": 43,
     "metadata": {},
     "output_type": "execute_result"
    }
   ],
   "source": [
    "x = '222.0'\n",
    "type(x)"
   ]
  },
  {
   "cell_type": "code",
   "execution_count": 45,
   "id": "f6a7a3f4-359d-4ed2-8ffe-85f6e0886dd9",
   "metadata": {},
   "outputs": [
    {
     "data": {
      "text/plain": [
       "'welcome'"
      ]
     },
     "execution_count": 45,
     "metadata": {},
     "output_type": "execute_result"
    }
   ],
   "source": [
    "s = 'welcome'\n",
    "s"
   ]
  },
  {
   "cell_type": "code",
   "execution_count": 47,
   "id": "71cb3f88-ff46-49b7-8ac5-9ef714f09736",
   "metadata": {},
   "outputs": [
    {
     "data": {
      "text/plain": [
       "'welcome'"
      ]
     },
     "execution_count": 47,
     "metadata": {},
     "output_type": "execute_result"
    }
   ],
   "source": [
    "s1 = s.strip()\n",
    "s1"
   ]
  },
  {
   "cell_type": "code",
   "execution_count": 49,
   "id": "09925763-20f1-460d-b46d-836747b4666f",
   "metadata": {},
   "outputs": [
    {
     "data": {
      "text/plain": [
       "'\\tgeorgia\\n'"
      ]
     },
     "execution_count": 49,
     "metadata": {},
     "output_type": "execute_result"
    }
   ],
   "source": [
    "s2 = \"\\tGeorgia\\n\"\n",
    "s3 = s2.lower()\n",
    "s3"
   ]
  },
  {
   "cell_type": "code",
   "execution_count": 50,
   "id": "bec4cde7-7180-47fd-b0c0-18b10b7ca103",
   "metadata": {},
   "outputs": [
    {
     "data": {
      "text/plain": [
       "'\\tGeorgia\\n'"
      ]
     },
     "execution_count": 50,
     "metadata": {},
     "output_type": "execute_result"
    }
   ],
   "source": [
    "s2 = \"\\tGeorgia\\n\"\n",
    "s2"
   ]
  },
  {
   "cell_type": "code",
   "execution_count": 51,
   "id": "9bd88072-8e6d-45fe-b75d-2305d5df2051",
   "metadata": {},
   "outputs": [
    {
     "data": {
      "text/plain": [
       "'\\tGEORGIA\\n'"
      ]
     },
     "execution_count": 51,
     "metadata": {},
     "output_type": "execute_result"
    }
   ],
   "source": [
    "s2 = \"\\tGeorgia\\n\"\n",
    "s3 = s2.upper()\n",
    "s3"
   ]
  },
  {
   "cell_type": "code",
   "execution_count": 55,
   "id": "faf851be-f2a9-4cad-bec2-12ed604589ee",
   "metadata": {},
   "outputs": [
    {
     "data": {
      "text/plain": [
       "'Good\\tMorning'"
      ]
     },
     "execution_count": 55,
     "metadata": {},
     "output_type": "execute_result"
    }
   ],
   "source": [
    "s = \"\\tGood\\tMorning\\n\"\n",
    "s1 = s.strip()\n",
    "s1"
   ]
  },
  {
   "cell_type": "markdown",
   "id": "f08f8e35-595c-4786-b4cb-e5dc237151fe",
   "metadata": {},
   "source": [
    "s = \"\\tGood\\tMorning\\n\"\n",
    "s"
   ]
  },
  {
   "cell_type": "code",
   "execution_count": 54,
   "id": "5926b211-52f6-4d92-ac3b-18b5b7e7e440",
   "metadata": {},
   "outputs": [
    {
     "data": {
      "text/plain": [
       "'\\tGood\\tMorning\\n'"
      ]
     },
     "execution_count": 54,
     "metadata": {},
     "output_type": "execute_result"
    }
   ],
   "source": [
    "s = \"\\tGood\\tMorning\\n\"\n",
    "s"
   ]
  },
  {
   "cell_type": "code",
   "execution_count": 57,
   "id": "a1079bda-65ca-4244-a2b8-6e86813279b4",
   "metadata": {},
   "outputs": [
    {
     "name": "stdin",
     "output_type": "stream",
     "text": [
      "Enter the amount: 23.678\n",
      "Enter the interestRate 0.0013\n"
     ]
    },
    {
     "name": "stdout",
     "output_type": "stream",
     "text": [
      "the interest is: 0.0307814\n"
     ]
    }
   ],
   "source": [
    "#formatting Numbers and strings\n",
    "amount = eval(input(\"Enter the amount:\"))\n",
    "interestRate = eval(input(\"Enter the interestRate\"))\n",
    "interest = amount * interestRate\n",
    "print(\"the interest is:\",interest)"
   ]
  },
  {
   "cell_type": "code",
   "execution_count": 58,
   "id": "94c3bf31-aa10-4f86-8099-dfe8e6cee6a3",
   "metadata": {},
   "outputs": [
    {
     "name": "stdin",
     "output_type": "stream",
     "text": [
      "Enter the amount: 23.678\n",
      "Enter the interestRate 0.0013\n"
     ]
    },
    {
     "name": "stdout",
     "output_type": "stream",
     "text": [
      "the interest is: 0\n"
     ]
    }
   ],
   "source": [
    "# i only want two decimal numbers\n",
    "amount = eval(input(\"Enter the amount:\"))\n",
    "interestRate = eval(input(\"Enter the interestRate\"))\n",
    "interest = amount * interestRate\n",
    "print(\"the interest is:\",round(interest,2))"
   ]
  },
  {
   "cell_type": "code",
   "execution_count": 64,
   "id": "0aa3d2ca-d027-4dd1-83f3-f5c782225717",
   "metadata": {},
   "outputs": [
    {
     "name": "stdin",
     "output_type": "stream",
     "text": [
      "Enter the amount: 12618.98\n",
      "Enter the interestRate 0.0013\n"
     ]
    },
    {
     "name": "stdout",
     "output_type": "stream",
     "text": [
      "the interest is: 16.405\n"
     ]
    }
   ],
   "source": [
    "# i only want two decimal numbers\n",
    "amount = eval(input(\"Enter the amount:\"))\n",
    "interestRate = eval(input(\"Enter the interestRate\"))\n",
    "interest = amount * interestRate\n",
    "print(\"the interest is:\",format(interest, \".3f\"))"
   ]
  },
  {
   "cell_type": "code",
   "execution_count": 62,
   "id": "9d7dc3d1-efcc-4fbb-b528-c8873bd20686",
   "metadata": {},
   "outputs": [
    {
     "name": "stdout",
     "output_type": "stream",
     "text": [
      "Interest is 16.40\n"
     ]
    }
   ],
   "source": [
    ">>> amount = 12618.98\n",
    ">>> interestRate = 0.0013\n",
    ">>> interest = amount * interestRate\n",
    ">>> print(\"Interest is\",format(interest, \".2f\"))"
   ]
  },
  {
   "cell_type": "code",
   "execution_count": null,
   "id": "8c7b4f1a-2f76-4eb1-a807-76d3b5027cee",
   "metadata": {},
   "outputs": [],
   "source": []
  }
 ],
 "metadata": {
  "kernelspec": {
   "display_name": "Python 3 (ipykernel)",
   "language": "python",
   "name": "python3"
  },
  "language_info": {
   "codemirror_mode": {
    "name": "ipython",
    "version": 3
   },
   "file_extension": ".py",
   "mimetype": "text/x-python",
   "name": "python",
   "nbconvert_exporter": "python",
   "pygments_lexer": "ipython3",
   "version": "3.12.4"
  }
 },
 "nbformat": 4,
 "nbformat_minor": 5
}
